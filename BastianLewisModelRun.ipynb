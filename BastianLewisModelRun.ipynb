{
 "cells": [
  {
   "cell_type": "markdown",
   "metadata": {},
   "source": [
    "# Run Model\n",
    "Dit notebook kan gebruikt worden om BrfRFE_model1 te draaien. Dit model is bedoeld om te voorspellen of een kandidaat starter zal worden op basis van de data die verzamelt is voordat het eerste telefonisch contact is geweest. "
   ]
  },
  {
   "cell_type": "code",
   "execution_count": 1,
   "metadata": {},
   "outputs": [],
   "source": [
    "# !git clone https://github.com/peterfaasse/BastianLewisModelRepo.git"
   ]
  },
  {
   "cell_type": "markdown",
   "metadata": {},
   "source": [
    "## Import necessary libraries"
   ]
  },
  {
   "cell_type": "code",
   "execution_count": 2,
   "metadata": {},
   "outputs": [],
   "source": [
    "import pandas as pd\n",
    "import numpy as np\n",
    "import os\n",
    "import json\n",
    "from datetime import datetime\n",
    "import re\n",
    "from helper import get_most_recent_file, make_dir\n",
    "from data_prep import run_data_prep, prepare_input_dataframe, prep_dataset_for_modelling, replace_invalid_values"
   ]
  },
  {
   "cell_type": "markdown",
   "metadata": {},
   "source": [
    "## Upload data\n",
    "Je kan de data van de kandidaten waarover je wilt voorspellen of ze starter worden uploaden in de map \"kandidaat_data\". Dit dient in de vorm van een excel te zijn met de naam \"kandidaten_[DATUM].xlsx\". Op de plek van [DATUM] vul je de datum in van uploaden in het format yyyymmdd, zonder streepjes of iets er tussen. Bijvoorbeeld een data bestand geupload op 11 augustus 2024 heeft de naam \"kandidaten_20240811.xlsx\". \n",
    "\n",
    "De excel heeft een aantal vaste kolommen en kolomnamen. Een voorbeeld excel bevind zich in kandidaten_data/voorbeeld_kandidaten.xlsx. Let op dat wijzigingen in de namen van kolommen of antwoordcategorieen impact hebben op de bruikbaarheid van de data en de kwaliteit van het model. "
   ]
  },
  {
   "cell_type": "markdown",
   "metadata": {},
   "source": [
    "## Set directories and load data"
   ]
  },
  {
   "cell_type": "code",
   "execution_count": 3,
   "metadata": {},
   "outputs": [],
   "source": [
    "kandidaten_dir = r\"C:\\Users\\peter\\Projects\\HR_Forecasting\\kandidaat_data\"\n",
    "data_dir = r\"C:\\Users\\peter\\Projects\\HR_Forecasting\\data\"\n",
    "model_dir = r\"C:\\Users\\peter\\Projects\\HR_Forecasting\\models\"\n",
    "supporting_data_dir = r\"C:\\Users\\peter\\Projects\\HR_Forecasting\\supporting_data\"\n",
    "file_path = get_most_recent_file(kandidaten_dir)\n",
    "df_kandidaten = pd.read_excel(file_path)"
   ]
  },
  {
   "cell_type": "markdown",
   "metadata": {},
   "source": [
    "## Lees model en metadata in"
   ]
  },
  {
   "cell_type": "code",
   "execution_count": 4,
   "metadata": {},
   "outputs": [],
   "source": [
    "## select model\n",
    "model_name = \"model_3\" # or select \"model_2\"\n",
    "\n",
    "## set paths\n",
    "model_path = os.path.join(model_dir, model_name + \".pkl\")\n",
    "meta_path = os.path.join(model_dir, model_name+\"_meta.json\")"
   ]
  },
  {
   "cell_type": "code",
   "execution_count": 5,
   "metadata": {},
   "outputs": [],
   "source": [
    "#laad model en metadata\n",
    "brf_rfe = pd.read_pickle(model_path)\n",
    "with open(meta_path, 'r') as file:\n",
    "    model_meta = json.load(file)"
   ]
  },
  {
   "cell_type": "markdown",
   "metadata": {},
   "source": [
    "## Prepareer data voor forecasting"
   ]
  },
  {
   "cell_type": "code",
   "execution_count": 6,
   "metadata": {},
   "outputs": [],
   "source": [
    "#laad dataset metadata in voor dit model\n",
    "json_path = os.path.join(model_dir,f\"{model_meta['dataset'].split('_final')[0]}_categorical_meta_data.json\")\n",
    "with open(json_path, \"r\") as file:\n",
    "    categorical_meta_data = json.load(file)"
   ]
  },
  {
   "cell_type": "code",
   "execution_count": 7,
   "metadata": {},
   "outputs": [
    {
     "name": "stdout",
     "output_type": "stream",
     "text": [
      "removed 0 candidates who did not have prioriteit 1\n",
      "removed 0 candidates who did not have NULL for afwijsBasisGegevens\n"
     ]
    }
   ],
   "source": [
    "#prep dataframe, select only model variables fil missings\n",
    "df_model_input = run_data_prep(df_kandidaten, supporting_data_dir)\n",
    "df_model_input = replace_invalid_values(df_model_input, categorical_meta_data)\n",
    "df_model_input = prepare_input_dataframe(df_model_input, model_meta['selected_features'])\n",
    "df_model_input.fillna(999, inplace=True)"
   ]
  },
  {
   "cell_type": "code",
   "execution_count": 9,
   "metadata": {},
   "outputs": [
    {
     "data": {
      "text/html": [
       "<div>\n",
       "<style scoped>\n",
       "    .dataframe tbody tr th:only-of-type {\n",
       "        vertical-align: middle;\n",
       "    }\n",
       "\n",
       "    .dataframe tbody tr th {\n",
       "        vertical-align: top;\n",
       "    }\n",
       "\n",
       "    .dataframe thead th {\n",
       "        text-align: right;\n",
       "    }\n",
       "</style>\n",
       "<table border=\"1\" class=\"dataframe\">\n",
       "  <thead>\n",
       "    <tr style=\"text-align: right;\">\n",
       "      <th></th>\n",
       "      <th>cdate</th>\n",
       "      <th>recruitercode</th>\n",
       "      <th>belafspraak</th>\n",
       "      <th>leeftijd</th>\n",
       "      <th>geboortedatum</th>\n",
       "      <th>Verloning marge stopper of W&amp;S overname</th>\n",
       "      <th>jaar_ervaring</th>\n",
       "      <th>diff_days</th>\n",
       "      <th>Voorkeursbranche_elektrotechniek</th>\n",
       "      <th>Voorkeursbranche_installatietechniek</th>\n",
       "    </tr>\n",
       "  </thead>\n",
       "  <tbody>\n",
       "    <tr>\n",
       "      <th>0</th>\n",
       "      <td>1627451332000000000</td>\n",
       "      <td>999</td>\n",
       "      <td>-9223372036854775808</td>\n",
       "      <td>999.0</td>\n",
       "      <td>-9223372036854775808</td>\n",
       "      <td>1031042.0</td>\n",
       "      <td>999.0</td>\n",
       "      <td>999.0</td>\n",
       "      <td>999</td>\n",
       "      <td>999</td>\n",
       "    </tr>\n",
       "    <tr>\n",
       "      <th>1</th>\n",
       "      <td>1627463776000000000</td>\n",
       "      <td>999</td>\n",
       "      <td>-9223372036854775808</td>\n",
       "      <td>999.0</td>\n",
       "      <td>-9223372036854775808</td>\n",
       "      <td>999.0</td>\n",
       "      <td>999.0</td>\n",
       "      <td>999.0</td>\n",
       "      <td>999</td>\n",
       "      <td>999</td>\n",
       "    </tr>\n",
       "    <tr>\n",
       "      <th>2</th>\n",
       "      <td>1627645583000000000</td>\n",
       "      <td>999</td>\n",
       "      <td>1668698100000000000</td>\n",
       "      <td>21.0</td>\n",
       "      <td>-9223372036854775808</td>\n",
       "      <td>999.0</td>\n",
       "      <td>999.0</td>\n",
       "      <td>475.0</td>\n",
       "      <td>999</td>\n",
       "      <td>999</td>\n",
       "    </tr>\n",
       "  </tbody>\n",
       "</table>\n",
       "</div>"
      ],
      "text/plain": [
       "                 cdate  recruitercode          belafspraak  leeftijd  \\\n",
       "0  1627451332000000000            999 -9223372036854775808     999.0   \n",
       "1  1627463776000000000            999 -9223372036854775808     999.0   \n",
       "2  1627645583000000000            999  1668698100000000000      21.0   \n",
       "\n",
       "         geboortedatum  Verloning marge stopper of W&S overname  \\\n",
       "0 -9223372036854775808                                1031042.0   \n",
       "1 -9223372036854775808                                    999.0   \n",
       "2 -9223372036854775808                                    999.0   \n",
       "\n",
       "   jaar_ervaring  diff_days  Voorkeursbranche_elektrotechniek  \\\n",
       "0          999.0      999.0                               999   \n",
       "1          999.0      999.0                               999   \n",
       "2          999.0      475.0                               999   \n",
       "\n",
       "   Voorkeursbranche_installatietechniek  \n",
       "0                                   999  \n",
       "1                                   999  \n",
       "2                                   999  "
      ]
     },
     "execution_count": 9,
     "metadata": {},
     "output_type": "execute_result"
    }
   ],
   "source": [
    "df_model_input"
   ]
  },
  {
   "cell_type": "markdown",
   "metadata": {},
   "source": [
    "## Make predictions and save in Results"
   ]
  },
  {
   "cell_type": "code",
   "execution_count": 10,
   "metadata": {},
   "outputs": [
    {
     "name": "stderr",
     "output_type": "stream",
     "text": [
      "c:\\Users\\peter\\anaconda3\\lib\\site-packages\\sklearn\\base.py:458: UserWarning: X has feature names, but BalancedRandomForestClassifier was fitted without feature names\n",
      "  warnings.warn(\n",
      "c:\\Users\\peter\\anaconda3\\lib\\site-packages\\sklearn\\base.py:458: UserWarning: X has feature names, but BalancedRandomForestClassifier was fitted without feature names\n",
      "  warnings.warn(\n"
     ]
    },
    {
     "name": "stdout",
     "output_type": "stream",
     "text": [
      "Directory already exists.\n"
     ]
    }
   ],
   "source": [
    "predictions = brf_rfe.predict(df_model_input)\n",
    "probas = brf_rfe.predict_proba(df_model_input)\n",
    "model_pred = pd.DataFrame()\n",
    "model_pred['id'] = list(df_kandidaten[\"id\"])\n",
    "model_pred['pred'] = list(predictions)\n",
    "model_pred['prob'] = probas[:,1]\n",
    "\n",
    "datetimestring = re.sub(r'\\D', '', str(datetime.today()))\n",
    "make_dir(\"results\")\n",
    "output_path = f\"results/{model_name}_predictions_{datetimestring}.xlsx\"\n",
    "model_pred.to_excel(output_path, index=False)"
   ]
  },
  {
   "cell_type": "code",
   "execution_count": 11,
   "metadata": {},
   "outputs": [
    {
     "data": {
      "text/html": [
       "<div>\n",
       "<style scoped>\n",
       "    .dataframe tbody tr th:only-of-type {\n",
       "        vertical-align: middle;\n",
       "    }\n",
       "\n",
       "    .dataframe tbody tr th {\n",
       "        vertical-align: top;\n",
       "    }\n",
       "\n",
       "    .dataframe thead th {\n",
       "        text-align: right;\n",
       "    }\n",
       "</style>\n",
       "<table border=\"1\" class=\"dataframe\">\n",
       "  <thead>\n",
       "    <tr style=\"text-align: right;\">\n",
       "      <th></th>\n",
       "      <th>id</th>\n",
       "      <th>pred</th>\n",
       "      <th>prob</th>\n",
       "    </tr>\n",
       "  </thead>\n",
       "  <tbody>\n",
       "    <tr>\n",
       "      <th>0</th>\n",
       "      <td>244</td>\n",
       "      <td>1</td>\n",
       "      <td>0.82</td>\n",
       "    </tr>\n",
       "    <tr>\n",
       "      <th>1</th>\n",
       "      <td>245</td>\n",
       "      <td>1</td>\n",
       "      <td>0.66</td>\n",
       "    </tr>\n",
       "    <tr>\n",
       "      <th>2</th>\n",
       "      <td>261</td>\n",
       "      <td>1</td>\n",
       "      <td>0.62</td>\n",
       "    </tr>\n",
       "  </tbody>\n",
       "</table>\n",
       "</div>"
      ],
      "text/plain": [
       "    id  pred  prob\n",
       "0  244     1  0.82\n",
       "1  245     1  0.66\n",
       "2  261     1  0.62"
      ]
     },
     "execution_count": 11,
     "metadata": {},
     "output_type": "execute_result"
    }
   ],
   "source": [
    "model_pred"
   ]
  },
  {
   "cell_type": "markdown",
   "metadata": {},
   "source": [
    "## Todos\n",
    "1. Fix nieuwe kolomwaardes naar other\n",
    "2. Vergelijk model oude data met model nieuwe data\n",
    "3. Voeg schone textdata toe aan data en draai modellen opnieuw\n",
    "4. Voeg map toe met model evaluatie metrics en trees\n",
    "5. Creeer aparte environment"
   ]
  },
  {
   "cell_type": "markdown",
   "metadata": {},
   "source": []
  }
 ],
 "metadata": {
  "kernelspec": {
   "display_name": "base",
   "language": "python",
   "name": "python3"
  },
  "language_info": {
   "codemirror_mode": {
    "name": "ipython",
    "version": 3
   },
   "file_extension": ".py",
   "mimetype": "text/x-python",
   "name": "python",
   "nbconvert_exporter": "python",
   "pygments_lexer": "ipython3",
   "version": "3.8.8"
  }
 },
 "nbformat": 4,
 "nbformat_minor": 2
}
