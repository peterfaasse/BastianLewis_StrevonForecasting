{
 "cells": [
  {
   "cell_type": "markdown",
   "metadata": {},
   "source": [
    "# Run Model\n",
    "Dit notebook kan gebruikt worden om BrfRFE_model1 te draaien. Dit model is bedoeld om te voorspellen of een kandidaat starter zal worden op basis van de data die verzamelt is voordat het eerste telefonisch contact is geweest. "
   ]
  },
  {
   "cell_type": "code",
   "execution_count": 1,
   "metadata": {},
   "outputs": [],
   "source": [
    "# !git clone https://github.com/peterfaasse/BastianLewisModelRepo.git"
   ]
  },
  {
   "cell_type": "markdown",
   "metadata": {},
   "source": [
    "## Import necessary libraries"
   ]
  },
  {
   "cell_type": "code",
   "execution_count": 2,
   "metadata": {},
   "outputs": [],
   "source": [
    "import pandas as pd\n",
    "import numpy as np\n",
    "import os\n",
    "import json\n",
    "from datetime import datetime\n",
    "import re\n",
    "from helper import get_most_recent_file, make_dir\n",
    "from data_prep import run_data_prep, prepare_input_dataframe, prep_dataset_for_modelling, replace_invalid_values"
   ]
  },
  {
   "cell_type": "markdown",
   "metadata": {},
   "source": [
    "## Upload data\n",
    "Je kan de data van de kandidaten waarover je wilt voorspellen of ze starter worden uploaden in de map \"kandidaat_data\". Dit dient in de vorm van een excel te zijn met de naam \"kandidaten_[DATUM].xlsx\". Op de plek van [DATUM] vul je de datum in van uploaden in het format yyyymmdd, zonder streepjes of iets er tussen. Bijvoorbeeld een data bestand geupload op 11 augustus 2024 heeft de naam \"kandidaten_20240811.xlsx\". \n",
    "\n",
    "De excel heeft een aantal vaste kolommen en kolomnamen. Een voorbeeld excel bevind zich in kandidaten_data/voorbeeld_kandidaten.xlsx. Let op dat wijzigingen in de namen van kolommen of antwoordcategorieen impact hebben op de bruikbaarheid van de data en de kwaliteit van het model. "
   ]
  },
  {
   "cell_type": "markdown",
   "metadata": {},
   "source": [
    "## Set directories and load data"
   ]
  },
  {
   "cell_type": "code",
   "execution_count": 3,
   "metadata": {},
   "outputs": [],
   "source": [
    "kandidaten_dir = r\"kanidaat_data\"\n",
    "data_dir = r\"data\"\n",
    "model_dir = r\"models\"\n",
    "file_path = get_most_recent_file(kandidaten_dir)\n",
    "df_kandidaten = pd.read_excel(file_path)"
   ]
  },
  {
   "cell_type": "markdown",
   "metadata": {},
   "source": [
    "## Lees model en metadata in"
   ]
  },
  {
   "cell_type": "code",
   "execution_count": 4,
   "metadata": {},
   "outputs": [],
   "source": [
    "## select model\n",
    "model_name = \"model_1\" # or select \"model_2\"\n",
    "\n",
    "## set paths\n",
    "model_path = os.path.join(model_dir, model_name + \".pkl\")\n",
    "meta_path = os.path.join(model_dir, model_name+\"_meta.json\")"
   ]
  },
  {
   "cell_type": "code",
   "execution_count": 5,
   "metadata": {},
   "outputs": [],
   "source": [
    "#laad model en metadata\n",
    "brf_rfe = pd.read_pickle(model_path)\n",
    "with open(meta_path, 'r') as file:\n",
    "    model_meta = json.load(file)"
   ]
  },
  {
   "cell_type": "markdown",
   "metadata": {},
   "source": [
    "## Prepareer data voor forecasting"
   ]
  },
  {
   "cell_type": "code",
   "execution_count": 6,
   "metadata": {},
   "outputs": [],
   "source": [
    "#laad dataset metadata in voor dit model\n",
    "json_path = os.path.join(model_dir,f\"{model_meta['dataset'][:-5]}_categorical_meta_data.json\")\n",
    "with open(json_path, \"r\") as file:\n",
    "    categorical_meta_data = json.load(file)"
   ]
  },
  {
   "cell_type": "code",
   "execution_count": 7,
   "metadata": {},
   "outputs": [
    {
     "name": "stdout",
     "output_type": "stream",
     "text": [
      "removed 0 candidates who did not have prioriteit 1\n",
      "removed 0 candidates who did not have NULL for afwijsBasisGegevens\n"
     ]
    }
   ],
   "source": [
    "#prep dataframe, select only model variables fil missings\n",
    "df_model_input = run_data_prep(df_kandidaten, data_dir)\n",
    "df_model_input = replace_invalid_values(df_model_input, categorical_meta_data)\n",
    "df_model_input = prep_dataset_for_modelling(df_model_input)\n",
    "df_model_input = prepare_input_dataframe(df_model_input, model_meta['selected_features'])\n",
    "df_model_input.fillna(999, inplace=True)"
   ]
  },
  {
   "cell_type": "markdown",
   "metadata": {},
   "source": [
    "## Make predictions and save in Results"
   ]
  },
  {
   "cell_type": "code",
   "execution_count": 8,
   "metadata": {},
   "outputs": [
    {
     "name": "stderr",
     "output_type": "stream",
     "text": [
      "c:\\Users\\peter\\anaconda3\\lib\\site-packages\\sklearn\\base.py:458: UserWarning: X has feature names, but BalancedRandomForestClassifier was fitted without feature names\n",
      "  warnings.warn(\n",
      "c:\\Users\\peter\\anaconda3\\lib\\site-packages\\sklearn\\base.py:458: UserWarning: X has feature names, but BalancedRandomForestClassifier was fitted without feature names\n",
      "  warnings.warn(\n"
     ]
    },
    {
     "name": "stdout",
     "output_type": "stream",
     "text": [
      "Directory already exists.\n"
     ]
    }
   ],
   "source": [
    "predictions = brf_rfe.predict(df_model_input)\n",
    "probas = brf_rfe.predict_proba(df_model_input)\n",
    "model_predictions = pd.DataFrame([list(df_kandidaten[\"id\"]),predictions,probas[:,1]],columns=[\"id\",\"predictions\",\"probabilities\"])\n",
    "datetimestring = re.sub(r'\\D', '', str(datetime.today()))\n",
    "make_dir(\"results\")\n",
    "output_path = f\"results/{model_name}_predictions_{datetimestring}.xlsx\"\n",
    "model_predictions.to_excel(output_path, index=False)"
   ]
  },
  {
   "cell_type": "markdown",
   "metadata": {},
   "source": [
    "## Todos\n",
    "1. Fix nieuwe kolomwaardes naar other\n",
    "2. Vergelijk model oude data met model nieuwe data\n",
    "3. Voeg schone textdata toe aan data en draai modellen opnieuw\n",
    "4. Voeg map toe met model evaluatie metrics en trees\n",
    "5. Creeer aparte environment"
   ]
  },
  {
   "cell_type": "markdown",
   "metadata": {},
   "source": []
  }
 ],
 "metadata": {
  "kernelspec": {
   "display_name": "base",
   "language": "python",
   "name": "python3"
  },
  "language_info": {
   "codemirror_mode": {
    "name": "ipython",
    "version": 3
   },
   "file_extension": ".py",
   "mimetype": "text/x-python",
   "name": "python",
   "nbconvert_exporter": "python",
   "pygments_lexer": "ipython3",
   "version": "3.8.8"
  }
 },
 "nbformat": 4,
 "nbformat_minor": 2
}
