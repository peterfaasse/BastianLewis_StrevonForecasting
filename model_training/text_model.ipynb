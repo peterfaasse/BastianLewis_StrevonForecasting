{
 "cells": [
  {
   "cell_type": "code",
   "execution_count": 9,
   "metadata": {},
   "outputs": [
    {
     "name": "stdout",
     "output_type": "stream",
     "text": [
      "              precision    recall  f1-score   support\n",
      "\n",
      "           0       0.98      0.99      0.99      1952\n",
      "           1       0.12      0.08      0.10        37\n",
      "\n",
      "    accuracy                           0.97      1989\n",
      "   macro avg       0.55      0.53      0.54      1989\n",
      "weighted avg       0.97      0.97      0.97      1989\n",
      "\n"
     ]
    }
   ],
   "source": [
    "import re\n",
    "import string\n",
    "from nltk.corpus import stopwords\n",
    "\n",
    "from sklearn.feature_extraction.text import TfidfVectorizer\n",
    "from sklearn.model_selection import train_test_split\n",
    "from sklearn.ensemble import RandomForestClassifier\n",
    "from sklearn.metrics import classification_report\n",
    "import pandas as pd\n",
    "import os\n",
    "\n",
    "# Functie om tekst op te schonen\n",
    "def clean_text(text):\n",
    "    text = re.sub(r'<.*?>', '', text)  # Verwijder HTML-tags\n",
    "    text = re.sub(r'http\\S+|www\\S+|https\\S+', '', text, flags=re.MULTILINE)  # Verwijder URL's\n",
    "    text = re.sub(r'[%s]' % re.escape(string.punctuation), '', text)  # Verwijder leestekens\n",
    "    text = text.lower()  # Zet om naar kleine letters\n",
    "    return text\n",
    "\n",
    "# Custom stopwoordenlijst die rekening houdt met technische termen\n",
    "technical_stopwords = list(set(stopwords.words('dutch')) - {\"monteur\", \"installatie\", \"elektro\", \"zonnepanelen\"})\n",
    "\n",
    "# Vectorisatie met TF-IDF en aangepaste stopwoordenlijst\n",
    "vectorizer = TfidfVectorizer(stop_words=technical_stopwords, max_features=1000)\n",
    "\n",
    "#load orignal data\n",
    "data_set_name = \"BastianLewisData\"\n",
    "data_dir = r\"C:\\Users\\peter\\Projects\\HR_Forecasting\\data\"\n",
    "file_path = os.path.join(data_dir,'BastianLewisData.xlsx')\n",
    "df = pd.read_excel(file_path,sheet_name='Result 1')\n",
    "\n",
    "# Combineer alle tekstvelden voor eenvoud\n",
    "df['combined_text'] = df['Motivatie'] + \" \" + df['Meest trotste project'] + \" \" + df['Huidig/Laatste functie']\n",
    "df.fillna('',inplace=True)\n",
    "# Tekst opschonen\n",
    "df['cleaned_text'] = df['combined_text'].apply(clean_text)\n",
    "\n",
    "# Feature Extraction met TF-IDF\n",
    "X = vectorizer.fit_transform(df['cleaned_text'])\n",
    "\n",
    "# Labels\n",
    "y = df['starter']\n",
    "\n",
    "# Train-test split\n",
    "X_train, X_test, y_train, y_test = train_test_split(X, y, test_size=0.2, random_state=42)\n",
    "\n",
    "# Modelleren met een Random Forest Classifier\n",
    "model = RandomForestClassifier(class_weight='balanced')\n",
    "model.fit(X_train, y_train)\n",
    "\n",
    "# Voorspellingen en evaluatie\n",
    "y_pred = model.predict(X_test)\n",
    "print(classification_report(y_test, y_pred))"
   ]
  },
  {
   "cell_type": "code",
   "execution_count": 12,
   "metadata": {},
   "outputs": [],
   "source": [
    "from imblearn.over_sampling import SMOTE"
   ]
  },
  {
   "cell_type": "code",
   "execution_count": 13,
   "metadata": {},
   "outputs": [
    {
     "name": "stdout",
     "output_type": "stream",
     "text": [
      "              precision    recall  f1-score   support\n",
      "\n",
      "           0       0.98      0.99      0.99      1952\n",
      "           1       0.12      0.08      0.10        37\n",
      "\n",
      "    accuracy                           0.97      1989\n",
      "   macro avg       0.55      0.53      0.54      1989\n",
      "weighted avg       0.97      0.97      0.97      1989\n",
      "\n",
      "ROC AUC Score: 0.553264842711564\n"
     ]
    }
   ],
   "source": [
    "# Oversampling met SMOTE\n",
    "smote = SMOTE(random_state=42)\n",
    "X_resampled, y_resampled = smote.fit_resample(X_train, y_train)\n",
    "\n",
    "# Modelleren met een Random Forest Classifier en class weights\n",
    "model = RandomForestClassifier(class_weight='balanced', random_state=42)\n",
    "model.fit(X_resampled, y_resampled)\n",
    "\n",
    "# Voorspellingen en evaluatie\n",
    "y_pred = model.predict(X_test)\n",
    "print(classification_report(y_test, y_pred))\n",
    "print(\"ROC AUC Score:\", roc_auc_score(y_test, model.predict_proba(X_test)[:,1]))"
   ]
  },
  {
   "cell_type": "code",
   "execution_count": 14,
   "metadata": {},
   "outputs": [
    {
     "name": "stderr",
     "output_type": "stream",
     "text": [
      "c:\\Users\\peter\\anaconda3\\lib\\site-packages\\imblearn\\ensemble\\_forest.py:577: FutureWarning: The default of `sampling_strategy` will change from `'auto'` to `'all'` in version 0.13. This change will follow the implementation proposed in the original paper. Set to `'all'` to silence this warning and adopt the future behaviour.\n",
      "  warn(\n",
      "c:\\Users\\peter\\anaconda3\\lib\\site-packages\\imblearn\\ensemble\\_forest.py:589: FutureWarning: The default of `replacement` will change from `False` to `True` in version 0.13. This change will follow the implementation proposed in the original paper. Set to `True` to silence this warning and adopt the future behaviour.\n",
      "  warn(\n",
      "c:\\Users\\peter\\anaconda3\\lib\\site-packages\\imblearn\\ensemble\\_forest.py:601: FutureWarning: The default of `bootstrap` will change from `True` to `False` in version 0.13. This change will follow the implementation proposed in the original paper. Set to `False` to silence this warning and adopt the future behaviour.\n",
      "  warn(\n"
     ]
    },
    {
     "name": "stdout",
     "output_type": "stream",
     "text": [
      "              precision    recall  f1-score   support\n",
      "\n",
      "           0       0.98      0.95      0.97      1952\n",
      "           1       0.05      0.14      0.08        37\n",
      "\n",
      "    accuracy                           0.94      1989\n",
      "   macro avg       0.52      0.54      0.52      1989\n",
      "weighted avg       0.97      0.94      0.95      1989\n",
      "\n",
      "ROC AUC Score: 0.5700736597252991\n"
     ]
    }
   ],
   "source": [
    "from imblearn.ensemble import BalancedRandomForestClassifier\n",
    "from sklearn.model_selection import train_test_split\n",
    "from sklearn.metrics import classification_report, roc_auc_score\n",
    "from sklearn.feature_extraction.text import TfidfVectorizer\n",
    "\n",
    "# Modelleren met een Balanced Random Forest Classifier\n",
    "model = BalancedRandomForestClassifier(random_state=42)\n",
    "model.fit(X_train, y_train)\n",
    "\n",
    "# Voorspellingen en evaluatie\n",
    "y_pred = model.predict(X_test)\n",
    "print(classification_report(y_test, y_pred))\n",
    "print(\"ROC AUC Score:\", roc_auc_score(y_test, model.predict_proba(X_test)[:,1]))"
   ]
  },
  {
   "cell_type": "code",
   "execution_count": 15,
   "metadata": {},
   "outputs": [],
   "source": [
    "import pandas as pd\n",
    "from sklearn.model_selection import train_test_split\n",
    "from imblearn.ensemble import BalancedRandomForestClassifier\n",
    "from sklearn.metrics import classification_report, confusion_matrix, roc_auc_score\n",
    "from sklearn.feature_selection import RFE\n",
    "import os\n",
    "import seaborn as sns\n",
    "import matplotlib.pyplot as plt\n",
    "\n",
    "\n",
    "# Plotting the confusion matrix\n",
    "def plot_confusion_matrix(cm, class_names):\n",
    "    plt.figure(figsize=(10, 7))\n",
    "    sns.heatmap(cm, annot=True, fmt='d', cmap='Blues', xticklabels=class_names, yticklabels=class_names)\n",
    "    plt.xlabel('Predicted Label')\n",
    "    plt.ylabel('True Label')\n",
    "    plt.title('Confusion Matrix')\n",
    "    plt.show()\n",
    "\n",
    "\n",
    "def plot_classification_report(classification_report, cmap='coolwarm'):\n",
    "    \"\"\"\n",
    "    Plots a heatmap of a classification report.\n",
    "    \n",
    "    Parameters:\n",
    "    classification_report (dict): The classification report as a dictionary, typically output from sklearn.metrics.classification_report.\n",
    "    cmap (str): The colormap for the heatmap. Default is 'coolwarm'.\n",
    "    \"\"\"\n",
    "    # Convert the classification report to a DataFrame\n",
    "    report_df = pd.DataFrame(classification_report).transpose()\n",
    "    \n",
    "    # Set the plot size\n",
    "    plt.figure(figsize=(10, 5))\n",
    "    \n",
    "    # Plot the heatmap\n",
    "    sns.heatmap(report_df, annot=True, cmap=cmap, fmt='.2f', linewidths=.5, cbar_kws={'label': 'Score'})\n",
    "    \n",
    "    # Set the labels and title\n",
    "    plt.xlabel('Metrics')\n",
    "    plt.ylabel('Classes')\n",
    "    plt.title('Classification Report')\n",
    "    \n",
    "    # Display the plot\n",
    "    plt.show()"
   ]
  },
  {
   "cell_type": "code",
   "execution_count": 16,
   "metadata": {},
   "outputs": [],
   "source": [
    "class_names = ['dropout','starter']"
   ]
  },
  {
   "cell_type": "code",
   "execution_count": 17,
   "metadata": {},
   "outputs": [
    {
     "name": "stdout",
     "output_type": "stream",
     "text": [
      "Classification Report:\n",
      "              precision    recall  f1-score   support\n",
      "\n",
      "           0       0.98      0.95      0.97      1952\n",
      "           1       0.05      0.14      0.08        37\n",
      "\n",
      "    accuracy                           0.94      1989\n",
      "   macro avg       0.52      0.54      0.52      1989\n",
      "weighted avg       0.97      0.94      0.95      1989\n",
      "\n"
     ]
    },
    {
     "data": {
      "image/png": "[encoded data removed]",
      "text/plain": [
       "<Figure size 720x504 with 2 Axes>"
      ]
     },
     "metadata": {
      "needs_background": "light"
     },
     "output_type": "display_data"
    }
   ],
   "source": [
    "# Evaluate the model\n",
    "print('Classification Report:')\n",
    "cr = classification_report(y_test, y_pred)\n",
    "print(cr)\n",
    "\n",
    "\n",
    "# Create and plot confusion matrix\n",
    "cm = confusion_matrix(y_test, y_pred)\n",
    "plot_confusion_matrix(cm, class_names)"
   ]
  },
  {
   "cell_type": "code",
   "execution_count": null,
   "metadata": {},
   "outputs": [],
   "source": [
    "from sklearn.pipeline import FeatureUnion\n",
    "from sklearn.compose import ColumnTransformer\n",
    "from sklearn.ensemble import RandomForestClassifier\n",
    "from sklearn.model_selection import train_test_split\n",
    "from imblearn.ensemble import BalancedRandomForestClassifier\n",
    "\n",
    "# Veronderstel dat je een DataFrame 'df' hebt met zowel tabeldata als tekstdata\n",
    "text_features =['Motivatie','Meest trotste project','Huidig/Laatste functie']\n",
    "table_features = ['leeftijd', 'ervaring_jaren', 'opleiding_niveau']  # Veronderstelde tabelfeatures\n",
    "\n",
    "# Stap 1: Tekstvectorisatie\n",
    "text_vectorizer = TfidfVectorizer(stop_words=technical_stopwords, max_features=1000)\n",
    "text_pipeline = ColumnTransformer(\n",
    "    transformers=[\n",
    "        ('text', text_vectorizer, 'combined_text')\n",
    "    ],\n",
    "    remainder='passthrough'\n",
    ")\n",
    "\n",
    "# Stap 2: Combineer tekst en tabel data\n",
    "combined_pipeline = FeatureUnion(\n",
    "    transformer_list=[\n",
    "        ('text_pipeline', text_pipeline),\n",
    "        ('table_data', 'passthrough')\n",
    "    ]\n",
    ")\n",
    "\n",
    "# Veronderstel dat df_tabel alleen de tabel features bevat en dat df_text de tekstfeatures bevat\n",
    "df['combined_text'] = df['motivatie'] + \" \" + df['meest_trotse_project'] + \" \" + df['huidige_laatste_functie']\n",
    "\n",
    "# Split de tabel en tekst features\n",
    "X_table = df[table_features]\n",
    "X_text = text_pipeline.fit_transform(df)\n",
    "\n",
    "# Combineer beide sets van features\n",
    "X_combined = np.hstack((X_text.toarray(), X_table.values))\n",
    "\n",
    "# Labels\n",
    "y = df['label']\n",
    "\n",
    "# Train-test split\n",
    "X_train, X_test, y_train, y_test = train_test_split(X_combined, y, test_size=0.2, random_state=42)\n",
    "\n",
    "# Train een Balanced Random Forest op de gecombineerde data\n",
    "model = BalancedRandomForestClassifier(random_state=42)\n",
    "model.fit(X_train, y_train)\n",
    "\n",
    "# Voorspellingen en evaluatie\n",
    "y_pred = model.predict(X_test)\n",
    "print(classification_report(y_test, y_pred))\n",
    "print(\"ROC AUC Score:\", roc_auc_score(y_test, model.predict_proba(X_test)[:,1]))\n"
   ]
  }
 ],
 "metadata": {
  "kernelspec": {
   "display_name": "base",
   "language": "python",
   "name": "python3"
  },
  "language_info": {
   "codemirror_mode": {
    "name": "ipython",
    "version": 3
   },
   "file_extension": ".py",
   "mimetype": "text/x-python",
   "name": "python",
   "nbconvert_exporter": "python",
   "pygments_lexer": "ipython3",
   "version": "3.8.8"
  }
 },
 "nbformat": 4,
 "nbformat_minor": 2
}
