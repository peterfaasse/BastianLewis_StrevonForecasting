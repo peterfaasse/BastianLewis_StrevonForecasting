{
 "cells": [
  {
   "cell_type": "markdown",
   "metadata": {},
   "source": [
    "### 1. Load data"
   ]
  },
  {
   "cell_type": "code",
   "execution_count": 12,
   "metadata": {},
   "outputs": [],
   "source": [
    "import os\n",
    "import pandas as pd\n",
    "import numpy as np\n",
    "from data_prep import store_categorical_metadata"
   ]
  },
  {
   "cell_type": "code",
   "execution_count": 2,
   "metadata": {},
   "outputs": [],
   "source": [
    "#load orignal data\n",
    "# file_path = os.path.join(os.curdir,'data','Kopie van BastianLewisData.xlsx')\n",
    "# df = pd.read_excel(file_path,sheet_name='Result 1')"
   ]
  },
  {
   "cell_type": "code",
   "execution_count": 15,
   "metadata": {},
   "outputs": [],
   "source": [
    "#load latest data\n",
    "data_set_name = \"StrevonExport\"\n",
    "file_path = os.path.join(os.curdir,'data','StrevonExport.xlsx')\n",
    "df = pd.read_excel(file_path,sheet_name='StrevonExport')"
   ]
  },
  {
   "cell_type": "code",
   "execution_count": 16,
   "metadata": {},
   "outputs": [],
   "source": [
    "#Drop irrelevant variables\n",
    "var_file_path = os.path.join(os.curdir,'data','Kopie van BastianLewisData.xlsx')\n",
    "df_vars = pd.read_excel(var_file_path,sheet_name='VariableSelection')\n",
    "var_drop = list(df_vars['Name'][df_vars['Status'] == 'Drop'])\n",
    "\n",
    "df.drop(labels = var_drop,  axis= 1, inplace = True)"
   ]
  },
  {
   "cell_type": "markdown",
   "metadata": {},
   "source": [
    "### 2. Select relevant candidates/rows"
   ]
  },
  {
   "cell_type": "code",
   "execution_count": 17,
   "metadata": {},
   "outputs": [
    {
     "name": "stdout",
     "output_type": "stream",
     "text": [
      "unique prioriteit values: [nan  3.  1.  2.  4.]\n",
      "unique afwijsBasisGegevens values: [nan 'postal_code' 'drivers_license' 'age' 'dutch_language_skill']\n",
      "number of candidates left: 4088\n",
      "0    3946\n",
      "1     142\n",
      "Name: starter, dtype: int64\n"
     ]
    }
   ],
   "source": [
    "# alleen 'prioriteit' = 1 houden & geen afwijsBasisGegevens (isnull) \n",
    "print('unique prioriteit values:',  df['prioriteit'].unique())\n",
    "print('unique afwijsBasisGegevens values:',  df['afwijsBasisGegevens'].unique())\n",
    "\n",
    "df = df[df['prioriteit'] == 1]\n",
    "df = df[pd.isnull(df['afwijsBasisGegevens'])]\n",
    "df.drop(labels = ['prioriteit','afwijsBasisGegevens'],  axis= 1, inplace = True)\n",
    "print(f\"number of candidates left: {len(df)}\")\n",
    "print(df['starter'].value_counts())"
   ]
  },
  {
   "cell_type": "code",
   "execution_count": 18,
   "metadata": {},
   "outputs": [],
   "source": [
    "df_backup = df.copy()"
   ]
  },
  {
   "cell_type": "markdown",
   "metadata": {},
   "source": [
    "### 3. clean dataset"
   ]
  },
  {
   "cell_type": "code",
   "execution_count": 19,
   "metadata": {},
   "outputs": [],
   "source": [
    "from data_prep import run_data_prep\n",
    "data_dir = \"data\""
   ]
  },
  {
   "cell_type": "code",
   "execution_count": 20,
   "metadata": {},
   "outputs": [],
   "source": [
    "df = run_data_prep(df, data_dir)"
   ]
  },
  {
   "cell_type": "markdown",
   "metadata": {},
   "source": [
    "### 4. Clean categorical variables"
   ]
  },
  {
   "cell_type": "code",
   "execution_count": 21,
   "metadata": {},
   "outputs": [],
   "source": [
    "# Cleaning values with low frequency <10\n",
    "def clean_categorical_variable(df: pd.DataFrame, column_name: str):\n",
    "    print(f\"working on {column_name}\")\n",
    "    print(f\"{len(df[df[column_name].isna()])} missings\")\n",
    "    print(\"recategorizing all values that appear less then 10 times to 'other'\")\n",
    "\n",
    "    value_counts = df[column_name].value_counts()\n",
    "    values_to_replace = value_counts[value_counts < 10].index\n",
    "    values_to_keep = value_counts[value_counts >= 10].index\n",
    "    df[column_name] = df[column_name].apply(lambda x: 'other' if x in values_to_replace else x)\n",
    "    print(f\"replaced the following values with other: {values_to_replace}\")\n",
    "    print(f\"Keeping the following values: {values_to_keep}\")\n",
    "    print(\"_________________________\")\n",
    "    return df\n",
    "\n",
    "\n",
    "def prep_dataset_for_modelling(df, data_set_name):\n",
    "    # Identify columns with object data type (categorical variables)\n",
    "    categorical_columns = df.select_dtypes(include=['object']).columns\n",
    "    for cat_col in categorical_columns:\n",
    "        df = clean_categorical_variable(df, cat_col)\n",
    "\n",
    "    store_categorical_metadata(df, f\"data/{data_set_name}_categorical_meta_data.json\")\n",
    "    # Identify non-object type columns\n",
    "    non_categorical_columns = df.select_dtypes(exclude=['object']).columns\n",
    "\n",
    "    # Dummy code the categorical columns\n",
    "    df_dummies = pd.get_dummies(df[categorical_columns])\n",
    "\n",
    "    # Select non-categorical columns\n",
    "    df_non_categorical = df[non_categorical_columns]\n",
    "\n",
    "    # Concatenate the dummy coded variables with the non-categorical columns\n",
    "    df_final = pd.concat([df_non_categorical, df_dummies], axis=1)\n",
    "    return df_final"
   ]
  },
  {
   "cell_type": "code",
   "execution_count": 22,
   "metadata": {},
   "outputs": [
    {
     "name": "stdout",
     "output_type": "stream",
     "text": [
      "working on recruiter\n",
      "555 missings\n",
      "recategorizing all values that appear less then 10 times to 'other'\n",
      "replaced the following values with other: Index(['Jurrian Sturm', 'Stavros Tatanidis', 'Wim van Ginkel',\n",
      "       'Gwyneth van Diermen', 'Fadoua Beghiyl', 'Gideon Den Admirant'],\n",
      "      dtype='object')\n",
      "Keeping the following values: Index(['Job van den Berg', 'Jermaine Symons', 'Lennart Huibers',\n",
      "       'Isabelle Walschots', 'Richard Felix Omondi', 'Wim Van Ginkel',\n",
      "       'Job Bruinsma'],\n",
      "      dtype='object')\n",
      "_________________________\n",
      "working on utm_source\n",
      "172 missings\n",
      "recategorizing all values that appear less then 10 times to 'other'\n",
      "replaced the following values with other: Index(['8kvl4ikw535', 'l', 'ecosia', 'fb-ig-web', 'duckduckgo', 'linktr',\n",
      "       'com', 'googleadservices', 'nl', 'youtube', 'm',\n",
      "       'nationale vacature gids'],\n",
      "      dtype='object')\n",
      "Keeping the following values: Index(['google', 'strevon', 'fb-ig', 'facebook', 'indeed', 'undefined',\n",
      "       'nationaleberoepengids', 'tiktok', 'bing', 'jobsrepublic'],\n",
      "      dtype='object')\n",
      "_________________________\n",
      "working on utm_medium\n",
      "80 missings\n",
      "recategorizing all values that appear less then 10 times to 'other'\n",
      "replaced the following values with other: Index([], dtype='object')\n",
      "Keeping the following values: Index(['cpc', 'organic', 'undefined', 'social'], dtype='object')\n",
      "_________________________\n",
      "working on utm_campaign\n",
      "2025 missings\n",
      "recategorizing all values that appear less then 10 times to 'other'\n",
      "replaced the following values with other: Index(['awarenessIG', 'uitgelicht', 'installatiemonteur_50215728-41-1',\n",
      "       'awarenessFB', 'algemeen_utrecht', 'algemeen_dordrecht',\n",
      "       'zonnepanelen_monteur_amsterdam', 'banner', 'elektromonteur_denhaag',\n",
      "       'algemeen_gouda', 'considera utm_medium=social', 'algemeen_leiden',\n",
      "       'considerationretargeting', 'zonnepanelen_monteur_gouda',\n",
      "       'algemeen_denhaag', 'elektromonteur_leiden',\n",
      "       'zonnepanelen_monteur_denhaag'],\n",
      "      dtype='object')\n",
      "Keeping the following values: Index(['installatiemonteur', 'consideration', 'consideration_elektromonteur',\n",
      "       'installatiemonteur_amsterdam', 'undefined',\n",
      "       'installatiemonteur_utrecht', 'retargeting',\n",
      "       'installatiemonteur_rotterdam', 'branding', 'awareness',\n",
      "       'elektromonteur_amsterdam', 'installatietechniek',\n",
      "       'elektromonteur_utrecht', 'installatiemonteur_exp',\n",
      "       'zonnepanelen_monteur_utrecht', 'algemeen_amsterdam', 'elektromonteur',\n",
      "       'elektromonteur_rotterdam', 'installatiemonteur_gouda',\n",
      "       'installatiemonteur_denhaag', 'algemeen_rotterdam', 'chat-popup',\n",
      "       'installatiemonteur-exp', 'zonnepanelen_monteur_rotterdam',\n",
      "       'elektrotechniek'],\n",
      "      dtype='object')\n",
      "_________________________\n",
      "working on utm_adgroup\n",
      "2570 missings\n",
      "recategorizing all values that appear less then 10 times to 'other'\n",
      "replaced the following values with other: Index(['zonnepanelen_cursus_utrecht', 'elektrotechniek_omscholing_amsterdam',\n",
      "       'loodgieter_omscholing_utrecht', 'elektrotechniek_opleiding_utrecht',\n",
      "       'loodgieter_cursus_amsterdam', 'werkleertraject_amsterdam',\n",
      "       'leerling_installatiemonteur', 'elektrotechniek_opleiding_rotterdam',\n",
      "       'zonnepanelen_opleiding_rotterdam', 'omscholing_installatiemonteur',\n",
      "       ...\n",
      "       'elektrotechniek_bbl_leiden', 'loodgieter_worden_denhaag',\n",
      "       'vacature_installatiemonteur_EXP', 'elektrotechniek_bbl_rotterdam',\n",
      "       'loodgieter_omscholing_EXP', 'elektromonteur_opleiding_denhaag',\n",
      "       'elektrotechniek_opleiding_mbo_denhaag', 'elektromonteur_bbl_denhaag',\n",
      "       'vacature_elektrotechniek_utrecht',\n",
      "       'elektromonteur_omscholing_amsterdam'],\n",
      "      dtype='object', length=102)\n",
      "Keeping the following values: Index(['undefined', 'werkleertraject', 'elektromonteur_bbl',\n",
      "       'DSA_LP_Optin_Elektro', 'werkleertraject_EXP', 'installateur_opleiding',\n",
      "       'omscholingstraject', 'loodgieter_opleiding',\n",
      "       'elektrotechniek_opleiding', 'installateur_opleiding_rotterdam',\n",
      "       'installateur_opleiding_amsterdam', 'loodgieter_opleiding_amsterdam',\n",
      "       'vacature_elektrotechniek', 'loodgieter_opleiding_utrecht',\n",
      "       'DSA_LP_Optin', 'bbl_opleiding_algemeen',\n",
      "       'installateur_opleiding_utrecht', 'zonnepanelen_opleiding_utrecht',\n",
      "       'loodgieter_worden_utrecht', 'elektromonteur_opleiding',\n",
      "       'loodgieter_worden_amsterdam', 'loodgieter_opleiding_rotterdam',\n",
      "       'elektricien_opleiding', 'elektrotechniek_opleiding_amsterdam',\n",
      "       'elektrotechniek_bbl_amsterdam', 'elektrotechniek_bbl_utrecht',\n",
      "       'vacature_installatiemonteur', 'betaalde_opleiding',\n",
      "       'loodgieter_omscholing_amsterdam', 'betaalde_opleiding_EXP',\n",
      "       'loodgieter_bbl', 'loodgieter_worden', 'opleiding_elektricien',\n",
      "       'loodgieter_bbl_amsterdam', 'installatietechniek_bbl',\n",
      "       'werk_leer_traject', 'elektrotechniek_cursus',\n",
      "       'installatietechniek_opleiding', 'loodgieter_bbl_utrecht',\n",
      "       'DSA_LP_Optin_Installatie'],\n",
      "      dtype='object')\n",
      "_________________________\n",
      "working on referrer\n",
      "693 missings\n",
      "recategorizing all values that appear less then 10 times to 'other'\n",
      "replaced the following values with other: Index(['www.nationaleberoepengids.nl', 'duckduckgo.com', 'www.google.de',\n",
      "       'linktr.ee', 'www.ecosia.org', 'www.youtube.com', 'l.wl.co',\n",
      "       'android-app:', 'www.google.com.tr', 'nl.search.yahoo.com',\n",
      "       'strevon-nl.webpkgcache.com', 'www.google.ae', 'www.google.fr',\n",
      "       'www.google.co.za', 'com.google.android.googlequicksearchbox',\n",
      "       'www.google.it', 'web.telegram.org', 'www.google.co.jp',\n",
      "       'www.googleadservices.com', 'werkenbijstrevon.nl', 'www.google.ch',\n",
      "       'typeform.com', 'syndicatedsearch.goog', 'l.instagram.com'],\n",
      "      dtype='object')\n",
      "Keeping the following values: Index(['www.google.com', 'strevon.nl', 'www.google.nl', 'direct', 'undefined',\n",
      "       'm.facebook.com', 'l.facebook.com', 'instagram.com', 'www.tiktok.com',\n",
      "       'lm.facebook.com', 'nl.indeed.com', '8kvl4ikw535.typeform.com',\n",
      "       'www.adsensecustomsearchads.com', 'www.bing.com'],\n",
      "      dtype='object')\n",
      "_________________________\n",
      "working on conversiepunt\n",
      "238 missings\n",
      "recategorizing all values that appear less then 10 times to 'other'\n",
      "replaced the following values with other: Index(['Website'], dtype='object')\n",
      "Keeping the following values: Index(['website', 'leadform'], dtype='object')\n",
      "_________________________\n",
      "working on pagina\n",
      "714 missings\n",
      "recategorizing all values that appear less then 10 times to 'other'\n",
      "replaced the following values with other: Index(['leer-werk-traject-techniek',\n",
      "       'opleidingstrajecten-bouw-techniek/volwassenen',\n",
      "       'werkgevers/whitepaper/vind-personeel',\n",
      "       'vacatures/installatietechniek/warmtepomp-installateur',\n",
      "       'vacatures/zonnepanelen/zonnepanelen-installateur/salaris',\n",
      "       'omscholing-ventilatiemonteur',\n",
      "       'vacatures/installatietechniek/airco-monteur/zzp',\n",
      "       'veelgestelde-vragen', 'opleidingstrajecten/elektrotechniek/deeltijd',\n",
      "       'opleidingstrajecten-bouw-techniek/betaald-omscholen',\n",
      "       'vacatures/zonnepanelen',\n",
      "       'vacatures/elektrotechniek/elektromonteur/salaris',\n",
      "       'vacatures/installatietechniek/loodgieter',\n",
      "       'vacatures/elektrotechniek/bbl',\n",
      "       'vacatures/zonnepanelen/leerling-zonnepanelen-monteur',\n",
      "       'succesverhalen', 'opleidingstrajecten/elektrotechniek/mbo',\n",
      "       'opleidingstrajecten-bouw-techniek/bbl',\n",
      "       'vacatures/installatietechniek/airco-monteur',\n",
      "       'vacatures/installatietechniek/installatiemonteur/salaris',\n",
      "       'opleidingstrajecten/installatietechniek/loodgieter/#:~:text=Wanneer%20je%20een%20loodgieter%20opleiding,en%20zeer%20gewild%20bij%20werkgevers.',\n",
      "       'opleidingstrajecten-bouw-techniek/klusjesman',\n",
      "       'vacatures/elektrotechniek/cao',\n",
      "       'installatietechniek-omscholingstraject-verhalen/rens',\n",
      "       'vacatures/elektrotechniek',\n",
      "       'vacatures/installatietechniek/installatiemonteur',\n",
      "       'vacatures-zonnepanelensector-zonnepanelenmonteur-zonnepanelenmonteur-mb-zonnepanelen-bodegraven',\n",
      "       'opleidingstrajecten/installatietechniek/hbo',\n",
      "       'vacatures/zonnepanelen/zonnepanelen-monteur',\n",
      "       'opleidingstrajecten/installatietechniek/installatiemonteur',\n",
      "       'opleidingstraject-partner-1',\n",
      "       'vacatures/installatietechniek/koelmonteur/salaris',\n",
      "       'vacatures/zonnepanelen/zonnepanelen-monteur/salaris',\n",
      "       'vacatures/elektrotechniek/leerling-elektromonteur',\n",
      "       'installatietechniek-omscholingstraject-verhalen/mark',\n",
      "       'werkgevers/plaatsen/amsterdam', 'vacatures-bouw-techniek',\n",
      "       'vacatures/installatietechniek/installatiemonteur/bevico-barendrect',\n",
      "       'zonwering-omscholingstraject-verhalen/patrick',\n",
      "       'elektrotechniek-omscholingstraject-verhalen/oliver',\n",
      "       'vacatures/elektrotechniek/elektromonteur',\n",
      "       'vacatures/installatietechniek/leerling-installatiemonteur',\n",
      "       'vacatures-bouw-techniek/plaatsen/almere',\n",
      "       'opleidingstrajecten/installatietechniek/koelmonteur',\n",
      "       'contact/met-opleidingadviseurs',\n",
      "       'opleidingstrajecten-bouw-techniek/hbo',\n",
      "       'vacatures-bouw-techniek/plaatsen/rotterdam',\n",
      "       'opleidingstrajecten/installatietechniek/mbo',\n",
      "       'vacatures/installatietechniek/verschil-w-en-e-installaties',\n",
      "       'zonnepanelen-opleidingstraject-verhalen/daan',\n",
      "       'vacatures-bouw-techniek/hbo',\n",
      "       'vacatures/installatietechniek/werkvoorbereider',\n",
      "       'werkgevers/elektrotechniek/elektromonteur/zzp', 'algemeen',\n",
      "       'vacatures/installatietechniek/riolering-monteur'],\n",
      "      dtype='object')\n",
      "Keeping the following values: Index(['omscholing-elektrotechniek-optin', '',\n",
      "       'omscholing-installatiemonteur-sea-4',\n",
      "       'omscholing-installatiemonteur-optin',\n",
      "       'omscholing-elektrotechniek-sea-4', 'opleidingstrajecten-bouw-techniek',\n",
      "       'omscholing-zonnepanelenmonteur-optin',\n",
      "       'opleidingstrajecten/installatietechniek/loodgieter',\n",
      "       'omscholing-zonnepanelenmonteur-sea-4',\n",
      "       'opleidingstrajecten/elektrotechniek/bbl',\n",
      "       'opleidingstrajecten/elektrotechniek/avondopleiding',\n",
      "       'opleidingstrajecten/installatietechniek', 'omscholing-zonwering-optin',\n",
      "       'opleidingstrajecten/installatietechniek/installateur',\n",
      "       'opleidingstrajecten/installatietechniek/cv-monteur',\n",
      "       'opleidingstrajecten/elektrotechniek',\n",
      "       'opleidingstrajecten/elektrotechniek/elektricien',\n",
      "       'opleidingstrajecten/zonnepanelen-installateur',\n",
      "       'opleidingstrajecten/zonnepanelen-monteur', 'contact',\n",
      "       'opleidingstrajecten-techniek-paid',\n",
      "       'vacatures/zonnepanelen/zonnepanelen-installateur/zzp', 'over-ons',\n",
      "       'vacatures/installatietechniek',\n",
      "       'opleidingstrajecten/installatietechniek/airco-monteur',\n",
      "       'vacatures/zonnepanelen/zonnepanelen-installateur/zzp/salaris',\n",
      "       'vacatures-bouw-techniek/zonder-diploma'],\n",
      "      dtype='object')\n",
      "_________________________\n",
      "working on uitkomstTelefonischContact\n",
      "3060 missings\n",
      "recategorizing all values that appear less then 10 times to 'other'\n",
      "replaced the following values with other: Index([], dtype='object')\n",
      "Keeping the following values: Index(['Intake'], dtype='object')\n",
      "_________________________\n",
      "working on Ben je in het bezit van rijbewijs?\n",
      "2338 missings\n",
      "recategorizing all values that appear less then 10 times to 'other'\n",
      "replaced the following values with other: Index(['nee'], dtype='object')\n",
      "Keeping the following values: Index(['ja'], dtype='object')\n",
      "_________________________\n",
      "working on beschikking tot eigen vervoer?\n",
      "2339 missings\n",
      "recategorizing all values that appear less then 10 times to 'other'\n",
      "replaced the following values with other: Index([], dtype='object')\n",
      "Keeping the following values: Index(['ja een eigen auto of motor', 'nee dit heb ik niet',\n",
      "       'ja een eigen scooter'],\n",
      "      dtype='object')\n",
      "_________________________\n",
      "working on score 1\n",
      "2728 missings\n",
      "recategorizing all values that appear less then 10 times to 'other'\n",
      "replaced the following values with other: Index([], dtype='object')\n",
      "Keeping the following values: Index(['Laminaat leggen, lampen aansluiten op elektra, sleutelen aan scooter/auto',\n",
      "       'Gordijnen ophangen, batterij vervangen rookmelder, lampje verwisselen',\n",
      "       'Meer dan een half jaar ervaring in een technische functie (bijvoorbeeld monteur)'],\n",
      "      dtype='object')\n",
      "_________________________\n",
      "working on score 2\n",
      "2738 missings\n",
      "recategorizing all values that appear less then 10 times to 'other'\n",
      "replaced the following values with other: Index([], dtype='object')\n",
      "Keeping the following values: Index(['Houtwerk schilderen, leidingen verleggen, vervangen van kapotte stopcontacten',\n",
      "       'Meer dan een half jaar ervaring in een technische functie (bijvoorbeeld monteur)',\n",
      "       'Stofzuigerzak vervangen, verwijderen oude poster, dakgoot schoonmaken',\n",
      "       'Laminaat leggen, lampen aansluiten op elektra, sleutelen aan scooter/auto',\n",
      "       'Gordijnen ophangen, batterij vervangen rookmelder, lampje verwisselen'],\n",
      "      dtype='object')\n",
      "_________________________\n",
      "working on score 3\n",
      "2741 missings\n",
      "recategorizing all values that appear less then 10 times to 'other'\n",
      "replaced the following values with other: Index([], dtype='object')\n",
      "Keeping the following values: Index(['Kast in elkaar zetten, monteren nieuwe douchekop, deurbel installeren',\n",
      "       'Meer dan een half jaar ervaring in een technische functie (bijvoorbeeld monteur)',\n",
      "       'Vervangen batterij afstandsbediening, schoonmaken afzuigkap, vastdraaien losse schroef'],\n",
      "      dtype='object')\n",
      "_________________________\n",
      "working on Voorkeursbranche\n",
      "2367 missings\n",
      "recategorizing all values that appear less then 10 times to 'other'\n",
      "replaced the following values with other: Index([], dtype='object')\n",
      "Keeping the following values: Index(['installatietechniek', 'elektrotechniek', 'zonnepanelen', 'zonwering',\n",
      "       'geen voorkeur'],\n",
      "      dtype='object')\n",
      "_________________________\n",
      "working on Motivatie\n",
      "3008 missings\n",
      "recategorizing all values that appear less then 10 times to 'other'\n",
      "replaced the following values with other: Index(['Ik vind het leuk', 'Nieuwe uitdaging', 'Ik vind leuk',\n",
      "       'Ik vind het leuk om met mijn handen te werken.', 'Ik vind dat leuk',\n",
      "       'Omdat ik graag met mijn handen werk', 'Lijkt me interessant',\n",
      "       'Ik heb een mbo niv. 4 diploma in de economie sector had vervolgens gekozen voor een hbo ICT opleiding waarna ik achter ben gekomen dat het niet echt iets voor mij is, voorderest zit heel mijn familie in de bouw en mijn broer heeft ook een elektro opleiding afgerond en is al jaren aan het werk in deze branche',\n",
      "       'Het lijkt me interessant en op lange termijn is het een vakgebied wat altijd toekomst zal hebben. Liefst zou ik een vak willen leren waar ik me van belang zou voelen.',\n",
      "       'Ik ben altijd handig geweest en heb ook tijdje glasvezel werk gedaan',\n",
      "       ...\n",
      "       'Ik wil zelfredzaam zijn en niet afhankelijk van anderen',\n",
      "       'Oriënterend naar een carrièreswitch in de techniek. Geen vooropleiding en ervaring maar wel een brede interesse in dit vakgebied.',\n",
      "       'Interesse in elektra', 'Het is mijn drom werk',\n",
      "       'Omdat ik in de praktijk goed ben maar ik wel ook de theorie erachter leren en goed weten. Maar ook om een papiertje op zak te hebben voor later.',\n",
      "       'Heb al een technische opleiding, maar niet veel ervaring in het technische bedrijfsleven.',\n",
      "       'Ik denk dat redelijk technisch ben aangelegd door mijn vader maar heb hier tot zover nooit iets mee gedaan.',\n",
      "       'Ik wil graag een vak uitoefenen waarbij je je zelf specialiseert.',\n",
      "       'Ik wil graag met mijn handen kunnen leren werken, omdat ik heb gemerkt dat ik niet gemaakt ben voor het kantoorleven',\n",
      "       'Ik ben momenteel werkzaam als chauffeur b maar ik wil mij specialiseren in een vak waar ik meer kan doorgroeien en in de praktijk bezig zal zijn dagelijks. Ik houd niet van kantoorbanen.'],\n",
      "      dtype='object', length=927)\n",
      "Keeping the following values: Index(['Ik sta alleen open voor de technische branche en/of iets gerelateerd hieraan',\n",
      "       'Ik sta ook open voor een andere branche (bijvoorbeeld: horeca, retail, logistiek, etc.).',\n",
      "       'Ik ben hier nog niet over uit'],\n",
      "      dtype='object')\n",
      "_________________________\n",
      "working on Werksituatie\n",
      "2329 missings\n",
      "recategorizing all values that appear less then 10 times to 'other'\n",
      "replaced the following values with other: Index([], dtype='object')\n",
      "Keeping the following values: Index(['ik ben werkloos', 'ik ben zzp'er',\n",
      "       'ik heb een tijdelijk contract (bepaalde tijd)',\n",
      "       'ik heb een vast contract'],\n",
      "      dtype='object')\n",
      "_________________________\n",
      "working on Huidig/Laatste functie\n",
      "2350 missings\n",
      "recategorizing all values that appear less then 10 times to 'other'\n",
      "replaced the following values with other: Index([                       'Student',                  'Taxichauffeur',\n",
      "                           'Brandwacht',                 'Elektromonteur',\n",
      "                 'Logistiek medewerker',                        'Monteur',\n",
      "                 'Zonnepanelen monteur',           'Vrachtwagenchauffeur',\n",
      "                    'Horeca medewerker',            'Productiemedewerker',\n",
      "       ...\n",
      "                 'Smartphone reparatie',                        '6 weken',\n",
      "       'Junior Boothville Installateur',                      'Bouwkunde',\n",
      "                       'Kozijn monteur',             'Support consultant',\n",
      "                       'Fysiotherapeut',                'Trainer airside',\n",
      "                   'Werkplekbeveiliger',  'Graficus ofwel Media designer'],\n",
      "      dtype='object', length=1183)\n",
      "Keeping the following values: Index([                   3,                    4,           'Bezorger',\n",
      "                          2,                    5,           'Werkloos',\n",
      "                'Chauffeur', 'Magazijnmedewerker',           'Operator',\n",
      "                     'Geen',            'Koerier',             'Horeca',\n",
      "                 'Schilder',         'Beveiliger'],\n",
      "      dtype='object')\n",
      "_________________________\n",
      "working on Hoe lang in dienst/werkloos\n",
      "2385 missings\n",
      "recategorizing all values that appear less then 10 times to 'other'\n",
      "replaced the following values with other: Index([                                                                           '10 maanden',\n",
      "                                                                                     '10 jaar',\n",
      "                                                                                    '1.5 jaar',\n",
      "                                                                                         'Nvt',\n",
      "                                                                                   'Half jaar',\n",
      "                                                                                     '2 weken',\n",
      "                                                                                'Bijna 2 jaar',\n",
      "                                                                                    'Een week',\n",
      "                                                                                           '-',\n",
      "                                                                                           '.',\n",
      "       ...\n",
      "       'Vanaf september 2017 ben ik marinier, en vanaf juni 2023 ben ik als burger in dienst.',\n",
      "                                                                             'Bijna een jaar.',\n",
      "                                                                        'Sport leeraar 4 Jaar',\n",
      "                                                                      'Ik ben in 2019 gestart',\n",
      "                                                                                   '1 maanden',\n",
      "                                                                                      '3jaren',\n",
      "                                                                                        '7mnd',\n",
      "                                                   '15 jaar W.A.O. ik wil de arbeids markt op',\n",
      "                                                                                      '10jaar',\n",
      "                                                                              'Niet heel lang'],\n",
      "      dtype='object', length=525)\n",
      "Keeping the following values: Index([                                                              '2 jaar',\n",
      "       'Nee, totaal niet. Ik ben fysiek werk en/of een fysieke sport gewend.',\n",
      "                                                                     '1 jaar',\n",
      "                                                                     '3 jaar',\n",
      "                                                                  '6 maanden',\n",
      "                                                                  '3 maanden',\n",
      "                                      'Nee, ik heb weinig tot nooit klachten',\n",
      "                                                                  '2 maanden',\n",
      "                                                                    '1 maand',\n",
      "                                                                     '4 jaar',\n",
      "                                                                     '5 jaar',\n",
      "                                                                  '4 maanden',\n",
      "                                                                   '1,5 jaar',\n",
      "                                                                     '6 jaar',\n",
      "                                                                            0,\n",
      "                                                                  '5 maanden',\n",
      "                                                                     '1 week',\n",
      "                                                                     '7 jaar',\n",
      "                                                                  '8 maanden',\n",
      "                                                                            5,\n",
      "                                                                            2,\n",
      "                                                                            3,\n",
      "                                                                     '8 jaar',\n",
      "                                                                  '7 maanden',\n",
      "                                                                            4,\n",
      "                                                                            1,\n",
      "                                                                   '2,5 jaar',\n",
      "                                                                       'Niet',\n",
      "                                                                      '1jaar',\n",
      "                                                                      '2jaar',\n",
      "                                                                  '9 maanden'],\n",
      "      dtype='object')\n",
      "_________________________\n",
      "working on Meest trotste project\n",
      "2349 missings\n",
      "recategorizing all values that appear less then 10 times to 'other'\n",
      "replaced the following values with other: Index([                                                                                                                                                                                                                                                                                                 '-',\n",
      "                                                                                                                                                                                                                                                                                      'Niet van toepassing',\n",
      "                                                                                                                                                                                                                                                                                                     'Niet',\n",
      "                                                                                                                                                                                                                                                                                                          0,\n",
      "                                                                                                                                                                                                                                                            'Ik hoop meer te gaan verdienen in de techniek',\n",
      "                                                                                                                                                                                                                                          'Technische vakman die bij jou thuis een technische opdracht had',\n",
      "                                                                                                                                                                                                                                                                                                      'nvt',\n",
      "                                                                                                                                                                                                                                                                                                   'N.v.t.',\n",
      "                                                                                                                                                                                                                                                                                                    'N.v.t',\n",
      "                                                                                                                                                                                                                                                                                               'Loodgieter',\n",
      "       ...\n",
      "       'Ik was gestart op een nieuwe afdeling bij de ECT (afdeling spreaders) en daar ging het zo goed dat de voorman zijn best had gedaan om mij daar te houden in vaste dienst. Helaas moest de ECT stoppen met de samenwerking met het detacherings bureau (GoFlex) waar ik werk vanwege bezuinigingen.',\n",
      "                                                                                                                                                                                                                                         'Ik heb geen project afgerond dus het is allemaal nieuwe voor mij',\n",
      "                                                                                                                                                                                                                                  'ik heb als schilder en als stratenmaker meerdere mooie projecten gedaan',\n",
      "                                                                                                                                                                                                                                                     'Ik heb geen technisch project gedaan afgelopen jaren',\n",
      "                                            'Ik leer vaak bij op boten om hardware te installeren en software lopend te krijgen, onbetaald als vriendendienst. Laatst verhuisd naar Amsterdam met vriendin en daar alle lampen vervangen, wat draden getrokken en een ventilator aangesloten en vernieuwd.',\n",
      "                                                                                                                 'Ik heb nog weinig technische ervaring maar tijdens het verbouwen van mijn nieuwe huis kwam ik er achter dat ik het erg leuk vindt om met mijn handen te werken en nieuwe dingen te leren',\n",
      "                                                                                                                                                                                                                                                                                                'Zonwering',\n",
      "                                                                                                                                                                                                                                                                                              'Niet werken',\n",
      "                                                                                                                                                                                                                                                                                    'Klussen in eigen huis',\n",
      "                                                                                                                                                                                                                                                          'Ik heb geen ervaring in de installatie techniek'],\n",
      "      dtype='object', length=1393)\n",
      "Keeping the following values: Index(['Geen', 'Ik hoop beter te kunnen doorgroeien binnen de techniek',\n",
      "       'Vriend, familie of kennis die zelf in de techniek werkt. Dat lijkt mij ook wel wat!',\n",
      "       'Ik heb het niet naar mijn zin bij mijn huidige werk', 'Nvt', '.',\n",
      "       'geen', 'Vriend, familie of kennis die de techniek bij mij vind passen',\n",
      "       'Geen ervaring'],\n",
      "      dtype='object')\n",
      "_________________________\n",
      "working on Strevon startsalaris\n",
      "2478 missings\n",
      "recategorizing all values that appear less then 10 times to 'other'\n",
      "replaced the following values with other: Index([], dtype='object')\n",
      "Keeping the following values: Index(['Dit is haalbaar', 'Dit is een uitdaging', 'Dit is niet haalbaar'], dtype='object')\n",
      "_________________________\n",
      "working on Strevon werktijden\n",
      "2477 missings\n",
      "recategorizing all values that appear less then 10 times to 'other'\n",
      "replaced the following values with other: Index([], dtype='object')\n",
      "Keeping the following values: Index(['Dit is haalbaar', 'Dit is een uitdaging', 'Dit is niet haalbaar'], dtype='object')\n",
      "_________________________\n",
      "working on GroupTitle\n",
      "0 missings\n",
      "recategorizing all values that appear less then 10 times to 'other'\n",
      "replaced the following values with other: Index(['Platform pijplijn ', 'CS - Fase 1 - Contract',\n",
      "       'BO - Fase 1 - Contract'],\n",
      "      dtype='object')\n",
      "Keeping the following values: Index(['RC - Fase 1 - Leads', 'RC - Fase 2 - Intakes',\n",
      "       'CS - Fase 3 - Afsluitend', 'CS - Fase 2 - Actief',\n",
      "       'RC - Fase 3 - Vacature aanbod'],\n",
      "      dtype='object')\n",
      "_________________________\n",
      "working on StageTitle\n",
      "0 missings\n",
      "recategorizing all values that appear less then 10 times to 'other'\n",
      "replaced the following values with other: Index(['Maand 2-3', 'Kwartaal 3 ', 'Direct in dienst',\n",
      "       'Nieuwe werving opstarten',\n",
      "       'Aangenomen (nog acties open voor recruiters)',\n",
      "       'Door Strevon ingevuld (niet actief)',\n",
      "       'Contract getekend > Klaar voor start', 'Prioriteit 3 leads ',\n",
      "       'Bedankpagina stap 1 (mag wel vrijblijvend advies gesprek) > begint nu aan technische affiniteiten test',\n",
      "       'Kwartaal 6', 'Gepland advies gesprek', 'Intake gepland', 'Maand 1 ',\n",
      "       'Profiel aanmaken (is nog niet ingelogd krijgt verfi. code)',\n",
      "       'Contract aanmaken ', 'Succesvol maar niet in dienst bij opdrachtgever',\n",
      "       'Actief '],\n",
      "      dtype='object')\n",
      "Keeping the following values: Index(['Bel afspraken', '2e telefonisch contactpoging', 'Intakes gepland',\n",
      "       'Nam niet op / Later terug bellen', 'Topkandidaten (Leads bellen)',\n",
      "       'Topkandidaten na intake', 'Actie Recruiter', 'Evaluatie na meeloopdag',\n",
      "       'Gestopt ', 'Actie Recruiter Lennart', 'Actie Recruiter Isabelle',\n",
      "       'Jobsrepublic leads ', 'Actie Recruiter Richard',\n",
      "       'Actie Recruiter Jermaine', 'Akkoord meeloopdag', 'Prioriteit 4 leads',\n",
      "       'Ingeplande meeloopdag', 'Op vast contract', 'Kwartaal 5',\n",
      "       'Kwartaal 4 ', 'Kwartaal 2'],\n",
      "      dtype='object')\n",
      "_________________________\n",
      "working on utm_campaign_location\n",
      "3527 missings\n",
      "recategorizing all values that appear less then 10 times to 'other'\n",
      "replaced the following values with other: Index(['dordrecht', 'leiden'], dtype='object')\n",
      "Keeping the following values: Index(['amsterdam', 'utrecht', 'rotterdam', 'denhaag', 'gouda'], dtype='object')\n",
      "_________________________\n",
      "working on utm_campaign_no_loc\n",
      "2025 missings\n",
      "recategorizing all values that appear less then 10 times to 'other'\n",
      "replaced the following values with other: Index(['awarenessIG', 'awarenessFB', 'uitgelicht',\n",
      "       'installatiemonteur_50215728-41-1', 'banner',\n",
      "       'considera utm_medium=social', 'considerationretargeting'],\n",
      "      dtype='object')\n",
      "Keeping the following values: Index(['installatiemonteur', 'consideration', 'consideration_elektromonteur',\n",
      "       'elektromonteur', 'undefined', 'retargeting', 'branding', 'awareness',\n",
      "       'installatietechniek', 'zonnepanelen_monteur', 'algemeen',\n",
      "       'installatiemonteur_exp', 'installatiemonteur-exp', 'elektrotechniek',\n",
      "       'chat-popup'],\n",
      "      dtype='object')\n",
      "_________________________\n",
      "working on utm_adgroup_location\n",
      "3548 missings\n",
      "recategorizing all values that appear less then 10 times to 'other'\n",
      "replaced the following values with other: Index(['dordrecht', 'leiden'], dtype='object')\n",
      "Keeping the following values: Index(['amsterdam', 'utrecht', 'rotterdam', 'denhaag', 'gouda'], dtype='object')\n",
      "_________________________\n",
      "working on utm_adgroup_no_loc\n",
      "2570 missings\n",
      "recategorizing all values that appear less then 10 times to 'other'\n",
      "replaced the following values with other: Index(['leerling_installatiemonteur', 'omscholing_installatiemonteur',\n",
      "       'installatietechniek_omscholing', 'elektromonteur_omscholing',\n",
      "       'elektrotechniek_opleiding_mbo', 'werkleer',\n",
      "       'avondopleiding_volwassenen', 'installateur_opleiding_EXP',\n",
      "       'installatietechniek_cursus', 'loodgieter_bbl_EXP',\n",
      "       'loodgieter_opleiding_EXP', 'elektrotechniek_bbl_opleiding',\n",
      "       'vacature_leerling_monteur_algemeen', 'omscholen_elektrotechniek',\n",
      "       'omscholingstraject_EXP', 'elektricien_omscholen',\n",
      "       'werken_als_installatiemonteur', 'werkleertraject_algemeen',\n",
      "       'installatietechniek_opleiding_EXP', 'installateur__divers_EXP',\n",
      "       'loodgieter_worden_EXP', 'werken_als_installatiemonteur_EXP',\n",
      "       'installatietechniek_bbl_EXP', 'installatietechniek_opleiding_mbo_EXP',\n",
      "       'opleidingen_elektricien', 'vacature_installatiemonteur_EXP',\n",
      "       'loodgieter_omscholing_EXP', 'omscholingstraject_zonnepanelen',\n",
      "       'werkleertraject_zonnepanelen'],\n",
      "      dtype='object')\n",
      "Keeping the following values: Index(['undefined', 'installateur_opleiding', 'loodgieter_opleiding',\n",
      "       'werkleertraject', 'elektromonteur_bbl', 'elektrotechniek_opleiding',\n",
      "       'loodgieter_worden', 'DSA_LP_Optin_Elektro', 'omscholingstraject',\n",
      "       'werkleertraject_EXP', 'loodgieter_bbl', 'elektromonteur_opleiding',\n",
      "       'loodgieter_omscholing', 'zonnepanelen_opleiding',\n",
      "       'elektrotechniek_bbl', 'vacature_elektrotechniek', 'DSA_LP_Optin',\n",
      "       'bbl_opleiding_algemeen', 'loodgieter_cursus', 'bbl_opleiding',\n",
      "       'elektrotechniek_cursus', 'installatietechniek_bbl',\n",
      "       'installatietechniek_opleiding', 'betaalde_opleiding',\n",
      "       'elektrotechniek_omscholing', 'elektricien_opleiding',\n",
      "       'installateur__divers', 'zonnepanelen_cursus',\n",
      "       'vacature_installatiemonteur', 'betaalde_opleiding_EXP',\n",
      "       'opleiding_elektricien', 'DSA_LP_Optin_Installatie',\n",
      "       'werk_leer_traject'],\n",
      "      dtype='object')\n",
      "_________________________\n",
      "working on parent_page\n",
      "714 missings\n",
      "recategorizing all values that appear less then 10 times to 'other'\n",
      "replaced the following values with other: Index(['werkgevers', 'leer-werk-traject-techniek',\n",
      "       'omscholing-ventilatiemonteur', 'veelgestelde-vragen', 'succesverhalen',\n",
      "       'installatietechniek-omscholingstraject-verhalen',\n",
      "       'opleidingstraject-partner-1',\n",
      "       'vacatures-zonnepanelensector-zonnepanelenmonteur-zonnepanelenmonteur-mb-zonnepanelen-bodegraven',\n",
      "       'zonnepanelen-opleidingstraject-verhalen', 'algemeen',\n",
      "       'elektrotechniek-omscholingstraject-verhalen',\n",
      "       'zonwering-omscholingstraject-verhalen'],\n",
      "      dtype='object')\n",
      "Keeping the following values: Index(['omscholing-elektrotechniek-optin', '', 'opleidingstrajecten',\n",
      "       'omscholing-installatiemonteur-sea-4',\n",
      "       'omscholing-installatiemonteur-optin',\n",
      "       'omscholing-elektrotechniek-sea-4', 'opleidingstrajecten-bouw-techniek',\n",
      "       'omscholing-zonnepanelenmonteur-optin', 'vacatures',\n",
      "       'omscholing-zonnepanelenmonteur-sea-4', 'omscholing-zonwering-optin',\n",
      "       'contact', 'opleidingstrajecten-techniek-paid',\n",
      "       'vacatures-bouw-techniek', 'over-ons'],\n",
      "      dtype='object')\n",
      "_________________________\n",
      "working on leeftijd_cat\n",
      "220 missings\n",
      "recategorizing all values that appear less then 10 times to 'other'\n",
      "replaced the following values with other: Index([], dtype='object')\n",
      "Keeping the following values: Index(['18-30 jaar', '31-49 jaar', '50 jaar of ouder'], dtype='object')\n",
      "_________________________\n",
      "working on postcode_getal\n",
      "225 missings\n",
      "recategorizing all values that appear less then 10 times to 'other'\n",
      "replaced the following values with other: Index(['3077', '3527', '2515', '1104', '3083', '2548', '3192', '0000', '3526',\n",
      "       '3022',\n",
      "       ...\n",
      "       '2382', '3207', '3438', '1076', '2333', '3195', '3334', '1101', '3851',\n",
      "       '3352'],\n",
      "      dtype='object', length=685)\n",
      "Keeping the following values: Index(['1000', '2000', '2700', '3300', '2500', '3100', '3800', '6600', '2525',\n",
      "       '3131', '2037', '1102', '3079', '3085', '1064', '3075', '1067', '1069',\n",
      "       '3071'],\n",
      "      dtype='object')\n",
      "_________________________\n",
      "working on Postcode\n",
      "236 missings\n",
      "recategorizing all values that appear less then 10 times to 'other'\n",
      "replaced the following values with other: Index(['3083', '3527', '2515', '3077', '2548', '1104', '3564', '2541', '3526',\n",
      "       '1033',\n",
      "       ...\n",
      "       '2382', '3207', '3438', '1076', '2333', '3195', '3334', '1101', '3851',\n",
      "       '3352'],\n",
      "      dtype='object', length=681)\n",
      "Keeping the following values: Index(['1000', '2000', '2700', '3300', '2500', '3100', '3800', '6600', '2525',\n",
      "       '3079', '3131', '1102', '2037', '3085', '1064', '1069', '3071', '3075',\n",
      "       '1067'],\n",
      "      dtype='object')\n",
      "_________________________\n",
      "working on Plaats\n",
      "236 missings\n",
      "recategorizing all values that appear less then 10 times to 'other'\n",
      "replaced the following values with other: Index(['Culemborg', 'IJmuiden', 'Noordwijk', 'Baarn', 'Gorinchem',\n",
      "       'Waddinxveen', 'Veenendaal', 'Beverwijk', 'Maarssen', 'Ede',\n",
      "       ...\n",
      "       'Lekkerkerk', 'Leimuiden', 'Blokker', 'Tiel', 'Moerkapelle',\n",
      "       'Pernis Rotterdam', 'Rozenburg', 'Rijswijk (GLD)', 'Den Hoorn',\n",
      "       'Bovenkarspel'],\n",
      "      dtype='object', length=208)\n",
      "Keeping the following values: Index(['Amsterdam', 'Haarlem', 'Zoetermeer', 'Den Haag', 'Dordrecht',\n",
      "       'Rotterdam', 'Schiedam', 'Amersfoort', 'Utrecht', 'Almere', 'Wijchen',\n",
      "       'Delft', 'Vlaardingen', 'Hoogvliet Rotterdam', 'Leiden', 'Hilversum',\n",
      "       'Gouda', 'Nieuwegein', 'Capelle aan den IJssel', 'Rijswijk', 'Zaandam',\n",
      "       'Purmerend', 'Hoofddorp', 'Alkmaar', 'Spijkenisse', 'Maassluis',\n",
      "       'Zeist', 'Amstelveen', 'Ridderkerk', 'Hoorn', 'Alphen aan den Rijn'],\n",
      "      dtype='object')\n",
      "_________________________\n",
      "working on Gemeente\n",
      "236 missings\n",
      "recategorizing all values that appear less then 10 times to 'other'\n",
      "replaced the following values with other: Index(['Culemborg', 'De Ronde Venen', 'Edam-Volendam', 'Baarn',\n",
      "       'Utrechtse Heuvelrug', 'Gorinchem', 'Waddinxveen', 'Woerden',\n",
      "       'Veenendaal', 'Pijnacker-Nootdorp', 'De Bilt', 'Beverwijk', 'Ede',\n",
      "       'Zuidplas', 'Katwijk', 'Harderwijk', 'Houten', 'Papendrecht', 'Soest',\n",
      "       'Zandvoort', 'Krimpenerwaard', 'Teylingen', 'Gooise Meren', 'Nieuwkoop',\n",
      "       'Kaag en Braassem', 'Barendrecht', 'West Betuwe', 'Heemskerk',\n",
      "       'Zwijndrecht', 'Heerhugowaard', 'Weesp', 'Den Helder', 'IJsselstein',\n",
      "       'Goeree-Overflakkee', 'Huizen', 'Medemblik', 'Langedijk',\n",
      "       'Hendrik-Ido-Ambacht', 'Hillegom', 'Castricum', 'West Maas en Waal',\n",
      "       'Lisse', 'Bergen (NH.)', 'Aalsmeer', 'Zeewolde', 'Heiloo', 'Uithoorn',\n",
      "       'Heemstede', 'Ouder-Amstel', 'Hardinxveld-Giessendam', 'Koggenland',\n",
      "       'Blaricum', 'Leiderdorp', 'Wijdemeren', 'Brielle', 'Leusden', 'Buren',\n",
      "       'Schagen', 'Hollands Kroon', 'Wijk bij Duurstede', 'Landsmeer',\n",
      "       'Zoeterwoude', 'Midden-Delfland', 'Oostzaan', 'Waterland', 'Wassenaar',\n",
      "       'Montfoort', 'Stede Broec', 'Hellevoetsluis', 'Ermelo', 'Wormerland',\n",
      "       'Nijkerk', 'Diemen', 'Bodegraven-Reeuwijk', 'Molenlanden', 'Wageningen',\n",
      "       'Oegstgeest', 'Tiel', 'Overbetuwe', 'Lopik', 'Laren', 'Bunnik',\n",
      "       'Krimpen aan den IJssel', 'Altena', 'Beemster', 'Uitgeest', 'Rhenen',\n",
      "       'Alblasserdam', 'Vught', 'Opmeer', 'Oudewater', 'Scherpenzeel',\n",
      "       'Bloemendaal', 'Boxtel', 'Arnhem', 'Bunschoten', 'Voorschoten',\n",
      "       'Echt-Susteren', 'Enkhuizen'],\n",
      "      dtype='object')\n",
      "Keeping the following values: Index(['Amsterdam', 'Haarlem', 'Zoetermeer', '‘s-Gravenhage', 'Rotterdam',\n",
      "       'Dordrecht', 'Schiedam', 'Amersfoort', 'Utrecht', 'Almere', 'Wijchen',\n",
      "       'Delft', 'Vlaardingen', 'Haarlemmermeer', 'Zaanstad', 'Leiden',\n",
      "       'Capelle aan den IJssel', 'Gouda', 'Hilversum', 'Nieuwegein', 'Alkmaar',\n",
      "       'Nissewaard', 'Rijswijk', 'Purmerend', 'Alphen aan den Rijn', 'Velsen',\n",
      "       'Maassluis', 'Hoorn', 'Noordwijk', 'Zeist', 'Amstelveen',\n",
      "       'Lansingerland', 'Westland', 'Ridderkerk', 'Stichtse Vecht',\n",
      "       'Hoeksche Waard', 'Vijfheerenlanden', 'Leidschendam-Voorburg'],\n",
      "      dtype='object')\n",
      "_________________________\n",
      "working on Provincie\n",
      "236 missings\n",
      "recategorizing all values that appear less then 10 times to 'other'\n",
      "replaced the following values with other: Index(['Noord-Brabant', 'Limburg'], dtype='object')\n",
      "Keeping the following values: Index(['Zuid-Holland', 'Noord-Holland', 'Utrecht', 'Gelderland', 'Flevoland'], dtype='object')\n",
      "_________________________\n",
      "working on randstad\n",
      "236 missings\n",
      "recategorizing all values that appear less then 10 times to 'other'\n",
      "replaced the following values with other: Float64Index([], dtype='float64')\n",
      "Keeping the following values: Float64Index([1.0, 0.0], dtype='float64')\n",
      "_________________________\n",
      "Metadata stored in data/StrevonExport_categorical_meta_data.json\n"
     ]
    }
   ],
   "source": [
    "df_final = prep_dataset_for_modelling(df, data_set_name)"
   ]
  },
  {
   "cell_type": "code",
   "execution_count": 24,
   "metadata": {},
   "outputs": [],
   "source": [
    "df_final.to_csv(os.path.join(data_dir,f\"{data_set_name}_final.csv\"))"
   ]
  },
  {
   "cell_type": "markdown",
   "metadata": {},
   "source": [
    "### cleaning and merging utm_source and source"
   ]
  },
  {
   "cell_type": "code",
   "execution_count": null,
   "metadata": {},
   "outputs": [],
   "source": [
    "column = \"utm_source\"\n",
    "plot_categorical_distribution(df, column)"
   ]
  },
  {
   "cell_type": "code",
   "execution_count": null,
   "metadata": {},
   "outputs": [],
   "source": [
    "column = \"source\"\n",
    "plot_categorical_distribution(df, column)"
   ]
  },
  {
   "cell_type": "code",
   "execution_count": null,
   "metadata": {},
   "outputs": [],
   "source": [
    "def clean_and_combine_source_columns(df):\n",
    "    df['source'] = df['source'].str.lower()\n",
    "    df['source'] = df['source'].replace(\"nationale beroepengids\", \"nationaleberoepengids\")\n",
    "    df['source'] = df['source'].replace(\"werkenbijstrevon\", \"strevon\")\n",
    "    df['source'] = df['source'].replace(\"onbekend\", \"undefined\")\n",
    "    df['source'] = df['source'].fillna(df['utm_source'])\n",
    "    clean_categorical_variable(df, 'source')\n",
    "\n",
    "    df['utm_source'] = df['utm_source'].str.lower()\n",
    "    df[\"utm_source\"].replace('werkenbijstrevon', 'strevon',inplace=True) #Mag dit is dit hetzelfde?\n",
    "    df['source'] = df['source'].replace(\"direct\",\"strevon\")\n",
    "    df['utm_source'] = df['utm_source'].replace(\"direct\",\"strevon\")\n",
    "    df['utm_source'] = df['utm_source'].fillna(df['source'])\n",
    "    clean_categorical_variable(df, 'utm_source')\n",
    "\n",
    "    column_a = 'utm_source'\n",
    "    column_b = 'source'\n",
    "    x = \"undefined\"\n",
    "    df[column_a] = df.apply(lambda row: row[column_b] if row[column_a] == x else row[column_a], axis=1)\n",
    "\n",
    "    column_a = 'source'\n",
    "    column_b = 'utm_source'\n",
    "    x = \"undefined\"\n",
    "    df[column_a] = df.apply(lambda row: row[column_b] if row[column_a] == x else row[column_a], axis=1)\n",
    "\n",
    "    column_a = 'source'\n",
    "    column_b = 'utm_source'\n",
    "    x = \"facebook\"\n",
    "    df[column_a] = df.apply(lambda row: row[column_b] if row[column_a] == x else row[column_a], axis=1)\n",
    "\n",
    "    ## Drop source and keep utm_source\n",
    "    df.drop(['source'], axis=1, inplace=True)\n",
    "    return df\n",
    "\n",
    "df = clean_and_combine_source_columns(df)"
   ]
  },
  {
   "cell_type": "code",
   "execution_count": null,
   "metadata": {},
   "outputs": [],
   "source": [
    "column = \"utm_source\"\n",
    "plot_categorical_distribution(df, column)"
   ]
  },
  {
   "cell_type": "markdown",
   "metadata": {},
   "source": [
    "### Visualizing, cleaning and merging utm_medium and medium"
   ]
  },
  {
   "cell_type": "code",
   "execution_count": null,
   "metadata": {},
   "outputs": [],
   "source": [
    "print(\"BEFORE\")\n",
    "column = \"utm_medium\"\n",
    "plot_categorical_distribution(df, column)\n",
    "\n",
    "column = \"medium\"\n",
    "plot_categorical_distribution(df, column)\n",
    "\n",
    "def merging_two_columns(df, column_a, column_b):\n",
    "    # Visualizeing, Cleaning and merging utm_medium and medium\n",
    "    df[column_b] = df[column_b].str.lower()\n",
    "    df[column_b] = df[column_b].replace(\"onbekend\", \"undefined\")\n",
    "\n",
    "    df[column_a] = df[column_a].str.lower()\n",
    "    df[column_a] = df[column_a].replace(\"onbekend\",\"undefined\")\n",
    "    df[column_a] = df[column_a].fillna(df[column_b])\n",
    "\n",
    "    x = \"undefined\"\n",
    "    df[column_a] = df.apply(lambda row: row[column_b] if row[column_a] == x else row[column_a],\n",
    "                            axis=1)\n",
    "\n",
    "    df.drop(column_b, axis=1, inplace = True)\n",
    "    return df\n",
    "\n",
    "df = merging_two_columns(df, \"utm_medium\", \"medium\")\n",
    "print(\"AFTER\")\n",
    "column = \"utm_medium\"\n",
    "plot_categorical_distribution(df, column)"
   ]
  },
  {
   "cell_type": "markdown",
   "metadata": {},
   "source": [
    "### Visualize, Clean and Merge utm_campaign and campagneNaam"
   ]
  },
  {
   "cell_type": "code",
   "execution_count": null,
   "metadata": {},
   "outputs": [],
   "source": [
    "column = \"utm_campaign\"\n",
    "plot_categorical_distribution(df, column)"
   ]
  },
  {
   "cell_type": "code",
   "execution_count": null,
   "metadata": {},
   "outputs": [],
   "source": [
    "column = \"campagneNaam\"\n",
    "plot_categorical_distribution(df, column)"
   ]
  },
  {
   "cell_type": "code",
   "execution_count": null,
   "metadata": {},
   "outputs": [],
   "source": [
    "def clean_utm_campaign(df):\n",
    "    # cleaning utm_campaign\n",
    "    column_name = 'utm_campaign'\n",
    "    df[column_name].replace('installatiemonteur_amstedram', 'installatiemonteur_amsterdam', inplace=True) #Mag dit is dit hetzelfde?\n",
    "    df[column_name].replace('installatiemonteur_amsterdan', 'installatiemonteur_amsterdam', inplace=True) #Mag dit is dit hetzelfde?\n",
    "    \n",
    "    installatiemonteur_values = [val for val in df['utm_campaign'].unique() if \"installatiemonteur-\" in str(val)]\n",
    "    installatiemonteur_values.remove('installatiemonteur-exp')\n",
    "    for val in installatiemonteur_values:\n",
    "        df[column_name].replace(val, 'installatiemonteur', inplace=True)\n",
    "\n",
    "    elektromonteur_values = [val for val in df['utm_campaign'].unique() if \"elektromonteur-\" in str(val)]\n",
    "    elektromonteur_values += [\"elektromonteur50215728-102-1\"]\n",
    "    for val in elektromonteur_values:\n",
    "        df[column_name].replace(val, 'elektromonteur', inplace=True)\n",
    "\n",
    "    installatietechniek_values = [val for val in df['utm_campaign'].unique() if \"installatietechniek-\" in str(val).lower()]\n",
    "    for val in installatietechniek_values:\n",
    "        df[column_name].replace(val, 'installatietechniek', inplace=True)\n",
    "\n",
    "    elektrotechniek_values = [val for val in df['utm_campaign'].unique() if \"elektrotechniek-\" in str(val).lower()]\n",
    "    for val in elektrotechniek_values:\n",
    "        df[column_name].replace(val, 'elektrotechniek', inplace=True)\n",
    "    return df"
   ]
  },
  {
   "cell_type": "code",
   "execution_count": null,
   "metadata": {},
   "outputs": [],
   "source": [
    "df = clean_utm_campaign(df)"
   ]
  },
  {
   "cell_type": "code",
   "execution_count": null,
   "metadata": {},
   "outputs": [],
   "source": [
    "column = \"utm_campaign\"\n",
    "plot_categorical_distribution(df, column)"
   ]
  },
  {
   "cell_type": "code",
   "execution_count": null,
   "metadata": {},
   "outputs": [],
   "source": [
    "def split_campaign_locations(df):\n",
    "    #create location of utm_campaign variable\n",
    "    df[\"utm_campaign_location\"] = df[\"utm_campaign\"].apply(lambda x: str(x).split(\"_\")[-1] if len(str(x).split(\"_\")) > 0 else None)\n",
    "    locations=['amsterdam','utrecht','dordrecht','leiden','gouda','denhaag','utrecht','rotterdam']\n",
    "    df[\"utm_campaign_location\"] = df[\"utm_campaign_location\"].apply(lambda x: x if x in locations else None)\n",
    "    #remove locations from utm_campaigns\n",
    "    df[\"utm_campaign_no_loc\"] = df[\"utm_campaign\"].apply(lambda x: \"_\".join(str(x).split(\"_\")[:-1]) if str(x).split(\"_\")[-1] in locations else x)\n",
    "    return df"
   ]
  },
  {
   "cell_type": "code",
   "execution_count": null,
   "metadata": {},
   "outputs": [],
   "source": [
    "df = split_campaign_locations(df)"
   ]
  },
  {
   "cell_type": "code",
   "execution_count": null,
   "metadata": {},
   "outputs": [],
   "source": [
    "df = clean_categorical_variable(df, \"utm_campaign_no_loc\")"
   ]
  },
  {
   "cell_type": "code",
   "execution_count": null,
   "metadata": {},
   "outputs": [],
   "source": [
    "column = \"utm_campaign_location\"\n",
    "plot_categorical_distribution(df, column)"
   ]
  },
  {
   "cell_type": "code",
   "execution_count": null,
   "metadata": {},
   "outputs": [],
   "source": [
    "df['utm_campaign'].value_counts()"
   ]
  },
  {
   "cell_type": "code",
   "execution_count": null,
   "metadata": {},
   "outputs": [],
   "source": [
    "column = \"utm_campaign_no_loc\"\n",
    "plot_categorical_distribution(df, column)"
   ]
  },
  {
   "cell_type": "code",
   "execution_count": null,
   "metadata": {},
   "outputs": [],
   "source": [
    "column = \"utm_campaign\"\n",
    "plot_categorical_distribution(df, column)"
   ]
  },
  {
   "cell_type": "code",
   "execution_count": null,
   "metadata": {},
   "outputs": [],
   "source": [
    "# CampagneNaam is same as utm_campaign so drop\n",
    "df.drop(['campagneNaam'], axis=1, inplace=True)"
   ]
  },
  {
   "cell_type": "markdown",
   "metadata": {},
   "source": [
    "## Visualize, clean and merge utm_adgroup and adgroup"
   ]
  },
  {
   "cell_type": "code",
   "execution_count": null,
   "metadata": {},
   "outputs": [],
   "source": [
    "column = \"utm_adgroup\"\n",
    "plot_categorical_distribution(df, column)"
   ]
  },
  {
   "cell_type": "code",
   "execution_count": null,
   "metadata": {},
   "outputs": [],
   "source": [
    "column = \"adgroup\"\n",
    "plot_categorical_distribution(df, column)"
   ]
  },
  {
   "cell_type": "code",
   "execution_count": null,
   "metadata": {},
   "outputs": [],
   "source": [
    "def split_adgroup_locations(df):\n",
    "    #create location of utm_adgroup variable\n",
    "    column_name = \"utm_adgroup\"\n",
    "    df[\"utm_adgroup_location\"] = df[column_name].apply(lambda x: str(x).split(\"_\")[-1] if len(str(x).split(\"_\")) > 0 else None)\n",
    "    locations=['amsterdam','utrecht','dordrecht','leiden','gouda','denhaag','utrecht','rotterdam']\n",
    "    df[\"utm_adgroup_location\"] = df[\"utm_adgroup_location\"].apply(lambda x: x if x in locations else None)\n",
    "    #remove locations from utm_campaigns\n",
    "    df[column_name+\"_no_loc\"] = df[column_name].apply(lambda x: \"_\".join(str(x).split(\"_\")[:-1]) if str(x).split(\"_\")[-1] in locations else x)\n",
    "    df = clean_categorical_variable(df, column_name+\"_no_loc\")\n",
    "    column_name = \"utm_adgroup\"\n",
    "    df = clean_categorical_variable(df, column_name)\n",
    "    return df"
   ]
  },
  {
   "cell_type": "code",
   "execution_count": null,
   "metadata": {},
   "outputs": [],
   "source": [
    "df = split_adgroup_locations(df)"
   ]
  },
  {
   "cell_type": "code",
   "execution_count": null,
   "metadata": {},
   "outputs": [],
   "source": [
    "column = \"utm_adgroup\"\n",
    "plot_categorical_distribution(df, column)"
   ]
  },
  {
   "cell_type": "code",
   "execution_count": null,
   "metadata": {},
   "outputs": [],
   "source": [
    "df['utm_adgroup'].value_counts()"
   ]
  },
  {
   "cell_type": "markdown",
   "metadata": {},
   "source": [
    "### cleaning referrer"
   ]
  },
  {
   "cell_type": "code",
   "execution_count": null,
   "metadata": {},
   "outputs": [],
   "source": [
    "def clean_referrer_column(df):    \n",
    "    values = ['strevon.nl', 'www.google.com', 'direct', 'm.facebook.com', np.nan,\n",
    "        'www.google.nl', 'www.nationaleberoepengids.nl',\n",
    "        'www.adsensecustomsearchads.com', 'nl.indeed.com',\n",
    "        'www.ecosia.org', 'duckduckgo.com', 'www.bing.com', 'linktr.ee',\n",
    "        'www.google.de', 'www.google.com.tr', 'www.google.ae',\n",
    "        'www.google.it', '8kvl4ikw535.typeform.com', 'www.google.co.jp',\n",
    "        'l.facebook.com', 'undefined', 'www.youtube.com', 'l.wl.co',\n",
    "        'com.google.android.googlequicksearchbox',\n",
    "        'www.googleadservices.com', 'www.google.co.za', 'typeform.com',\n",
    "        'www.google.fr', 'werkenbijstrevon.nl', 'l.instagram.com',\n",
    "        'nl.search.yahoo.com', 'lm.facebook.com', 'www.tiktok.com',\n",
    "        'instagram.com', 'android-app:', 'www.google.ch',\n",
    "        'strevon-nl.webpkgcache.com', 'web.telegram.org',\n",
    "        'syndicatedsearch.goog']\n",
    "\n",
    "    google_values = [val for val in values if 'google' in str(val)]\n",
    "    facebook_values = [val for val in values if 'facebook' in str(val)]\n",
    "    strevon_values = [val for val in values if 'strevon' in str(val)] + [\"direct\"]\n",
    "\n",
    "    df['referrer'] =  df['referrer'].apply(lambda x: 'google' if str(x) in google_values else x)\n",
    "    df['referrer'] =  df['referrer'].apply(lambda x: 'facebook' if str(x) in facebook_values else x)\n",
    "    df['referrer'] =  df['referrer'].apply(lambda x: 'strevon' if str(x) in strevon_values else x)\n",
    "    clean_categorical_variable(df, 'referrer')\n",
    "\n",
    "\n",
    "    df['referrer'] = df['referrer'].str.replace(\".com\",'')\n",
    "    df['referrer'] =df['referrer'].str.replace(\"www.\",'')\n",
    "    df['referrer'] =df['referrer'].str.replace(\"nl.\",'')\n",
    "    df['referrer'] =df['referrer'].str.replace(\".nl\",'')\n",
    "    return df"
   ]
  },
  {
   "cell_type": "code",
   "execution_count": null,
   "metadata": {},
   "outputs": [],
   "source": [
    "df = clean_referrer_column(df)"
   ]
  },
  {
   "cell_type": "code",
   "execution_count": null,
   "metadata": {},
   "outputs": [],
   "source": [
    "column = \"referrer\"\n",
    "plot_categorical_distribution(df, column)"
   ]
  },
  {
   "cell_type": "markdown",
   "metadata": {},
   "source": [
    "## Conversiepunt Visualize if needed clean"
   ]
  },
  {
   "cell_type": "code",
   "execution_count": null,
   "metadata": {},
   "outputs": [],
   "source": [
    "column = 'conversiepunt'\n",
    "df[column] = df[column].str.lower()\n",
    "plot_categorical_distribution(df, column)"
   ]
  },
  {
   "cell_type": "markdown",
   "metadata": {},
   "source": [
    "## Pagina visualize and clean if needed "
   ]
  },
  {
   "cell_type": "code",
   "execution_count": null,
   "metadata": {},
   "outputs": [],
   "source": [
    "column = 'pagina'\n",
    "plot_categorical_distribution(df, column)"
   ]
  },
  {
   "cell_type": "code",
   "execution_count": null,
   "metadata": {},
   "outputs": [],
   "source": [
    "def convert_pagina_to_parent_page(df):\n",
    "    column = 'pagina'\n",
    "    df[column] = df[column].apply(lambda x: x.strip(\"/\") if type(x)==str else x)\n",
    "    df['parent_page'] = df[column].apply(lambda x: x.split(\"/\")[0] if type(x)==str else x)\n",
    "    return df"
   ]
  },
  {
   "cell_type": "code",
   "execution_count": null,
   "metadata": {},
   "outputs": [],
   "source": [
    "df = convert_pagina_to_parent_page(df)"
   ]
  },
  {
   "cell_type": "code",
   "execution_count": null,
   "metadata": {},
   "outputs": [],
   "source": [
    "len(df['parent_page'].unique())"
   ]
  },
  {
   "cell_type": "code",
   "execution_count": null,
   "metadata": {},
   "outputs": [],
   "source": [
    "column = 'parent_page'\n",
    "plot_categorical_distribution(df,column)"
   ]
  },
  {
   "cell_type": "markdown",
   "metadata": {},
   "source": [
    "## UitkomstTelefonischContact en UitkomstTelefonischDeal Visualize and Clean"
   ]
  },
  {
   "cell_type": "code",
   "execution_count": null,
   "metadata": {},
   "outputs": [],
   "source": [
    "def merge_UitkomstTelefonisch(df):\n",
    "    df['uitkomstTelefonischDeal'] = df['uitkomstTelefonischDeal'].fillna(df[\"uitkomstTelefonischContact\"])\n",
    "    df.drop(column, axis=1, inplace=True)\n",
    "    return df"
   ]
  },
  {
   "cell_type": "code",
   "execution_count": null,
   "metadata": {},
   "outputs": [],
   "source": [
    "\n",
    "column = \"uitkomstTelefonischDeal\""
   ]
  },
  {
   "cell_type": "code",
   "execution_count": null,
   "metadata": {},
   "outputs": [],
   "source": [
    "\n",
    "plot_categorical_distribution(df,column)\n"
   ]
  },
  {
   "cell_type": "markdown",
   "metadata": {},
   "source": [
    "## Visualizing and Cleaning leeftijd"
   ]
  },
  {
   "cell_type": "code",
   "execution_count": null,
   "metadata": {},
   "outputs": [],
   "source": [
    "df['leeftijd'].unique()"
   ]
  },
  {
   "cell_type": "code",
   "execution_count": null,
   "metadata": {},
   "outputs": [],
   "source": [
    "import random\n",
    "\n",
    "def categorize(x):\n",
    "    if (x>0) & (x<31):\n",
    "        return \"18-30 jaar\"\n",
    "    elif (x>30) & (x<50):\n",
    "        return \"31-49 jaar\"\n",
    "    elif x > 49:\n",
    "        return \"50 jaar of ouder\"\n",
    "    else:\n",
    "        return np.nan\n",
    "\n",
    "def cleaning_leeftijd(df):\n",
    "    df['leeftijd'] = df['leeftijd'].apply(lambda x: str(random.choice(range(18,30))) if x==\"18-30 jaar\" else x)\n",
    "    df['leeftijd'] = df['leeftijd'].apply(lambda x: str(random.choice(range(31,49))) if x==\"31-49 jaar\" else x)\n",
    "    df['leeftijd'] = df['leeftijd'].apply(lambda x: str(random.choice(range(31,45))) if x==\"31-45 jaar\" else x)\n",
    "    df['leeftijd'] = df['leeftijd'].apply(lambda x: str(random.choice(range(50,65))) if x==\"50 jaar of ouder\" else x)\n",
    "    df['leeftijd'] = df['leeftijd'].apply(float)\n",
    "    df['leeftijd'] = df['leeftijd'].replace(0,np.nan)\n",
    "    df['leeftijd'] = df['leeftijd'].replace(1,np.nan)\n",
    "\n",
    "    df['leeftijd_cat'] = df['leeftijd'].apply(lambda x: categorize(x))\n",
    "    return df\n"
   ]
  },
  {
   "cell_type": "code",
   "execution_count": null,
   "metadata": {},
   "outputs": [],
   "source": [
    "df = cleaning_leeftijd(df)"
   ]
  },
  {
   "cell_type": "code",
   "execution_count": null,
   "metadata": {},
   "outputs": [],
   "source": [
    "column = 'leeftijd_cat'\n",
    "plot_categorical_distribution(df,column)"
   ]
  },
  {
   "cell_type": "code",
   "execution_count": null,
   "metadata": {},
   "outputs": [],
   "source": [
    "import pandas as pd\n",
    "import matplotlib.pyplot as plt\n",
    "import seaborn as sns\n",
    "\n",
    "def plot_histogram(df, column, bins=30):\n",
    "    plt.figure(figsize=(10, 6))\n",
    "    sns.histplot(df[column], bins=bins, kde=False, color='blue')\n",
    "    plt.title(f'Histogram of {column}')\n",
    "    plt.xlabel(column)\n",
    "    plt.ylabel('Frequency')\n",
    "    plt.show()\n",
    "\n",
    "def plot_density(df, column):\n",
    "    plt.figure(figsize=(10, 6))\n",
    "    sns.kdeplot(df[column], shade=True, color='purple')\n",
    "    plt.title(f'Density Plot of {column}')\n",
    "    plt.xlabel(column)\n",
    "    plt.ylabel('Density')\n",
    "    plt.show()\n",
    "\n",
    "def plot_boxplot(df, column):\n",
    "    plt.figure(figsize=(10, 6))\n",
    "    sns.boxplot(y=df[column], color='green')\n",
    "    plt.title(f'Box Plot of {column}')\n",
    "    plt.xlabel('Category')\n",
    "    plt.ylabel(column)\n",
    "    plt.show()\n",
    "\n",
    "def plot_violinplot(df, column):\n",
    "    plt.figure(figsize=(10, 6))\n",
    "    sns.violinplot(y=df[column], color='orange')\n",
    "    plt.title(f'Violin Plot of {column}')\n",
    "    plt.xlabel('Category')\n",
    "    plt.ylabel(column)\n",
    "    plt.show()\n",
    "\n",
    "plot_histogram(df, 'leeftijd')\n",
    "plot_density(df, 'leeftijd')\n",
    "plot_boxplot(df, 'leeftijd')\n",
    "plot_violinplot(df, 'leeftijd')\n"
   ]
  },
  {
   "cell_type": "markdown",
   "metadata": {},
   "source": [
    "## Ben je in het bezit van een rijbewijs"
   ]
  },
  {
   "cell_type": "code",
   "execution_count": null,
   "metadata": {},
   "outputs": [],
   "source": [
    "def clean_rijbewijs(df):\n",
    "    column =\"Ben je in het bezit van rijbewijs?\"\n",
    "    df[column] = df[column].str.lower()\n",
    "    df[column] = df[column].str.strip(\",\")\n",
    "    return df\n",
    "df = clean_rijbewijs(df)\n",
    "df[column].value_counts()"
   ]
  },
  {
   "cell_type": "markdown",
   "metadata": {},
   "source": [
    "## beschikking tot eigen vervoer?"
   ]
  },
  {
   "cell_type": "code",
   "execution_count": null,
   "metadata": {},
   "outputs": [],
   "source": [
    "def clean_eigen_vervoer(df):\n",
    "    column = \"beschikking tot eigen vervoer?\"\n",
    "    df[column] = df[column].str.lower()\n",
    "    df[column] = df[column].apply(lambda x: \"nee dit heb ik niet\" if str(x) in [\"geen auto\",\"geen vervoer\"] else x)\n",
    "    df[column] = df[column].apply(lambda x: \"ja een eigen auto of motor\" if \"motor\" in str(x) else x)\n",
    "    df[column] = df[column].apply(lambda x: \"ja een eigen auto of motor\" if \"auto\" in str(x) else x)\n",
    "    df[column] = df[column].apply(lambda x: \"ja een eigen auto of motor\" if str(x)==\"ja\" else x)\n",
    "    df[column] = df[column].apply(lambda x: \"nee dit heb ik niet\" if str(x)==\"nee\" else x)\n",
    "    return df\n",
    "df = clean_eigen_vervoer(df)\n",
    "df[\"beschikking tot eigen vervoer?\"].value_counts()"
   ]
  },
  {
   "cell_type": "markdown",
   "metadata": {},
   "source": [
    "## Score 1"
   ]
  },
  {
   "cell_type": "code",
   "execution_count": null,
   "metadata": {},
   "outputs": [],
   "source": [
    "def clean_score_1(df):\n",
    "    column = 'score 1'\n",
    "    answer_options = [\"Laminaat leggen, lampen aansluiten op elektra, sleutelen aan scooter/auto\",\n",
    "                    \"Gordijnen ophangen, batterij vervangen rookmelder, lampje verwisselen\",\n",
    "                    \"Meer dan een half jaar ervaring in een technische functie (bijvoorbeeld monteur)\"]\n",
    "    df[column] = df[column].apply(lambda x: x if x in answer_options else np.nan)\n",
    "    return df\n",
    "\n",
    "df = clean_score_1(df)"
   ]
  },
  {
   "cell_type": "code",
   "execution_count": null,
   "metadata": {},
   "outputs": [],
   "source": [
    "plot_categorical_distribution(df, column)"
   ]
  },
  {
   "cell_type": "code",
   "execution_count": null,
   "metadata": {},
   "outputs": [],
   "source": [
    "column = 'score 2'\n",
    "df[column].value_counts()\n",
    "#plot_categorical_distribution(df, column)"
   ]
  },
  {
   "cell_type": "code",
   "execution_count": null,
   "metadata": {},
   "outputs": [],
   "source": [
    "plot_categorical_distribution(df, column)"
   ]
  },
  {
   "cell_type": "code",
   "execution_count": null,
   "metadata": {},
   "outputs": [],
   "source": [
    "column = 'score 3'\n",
    "df[column].value_counts()\n",
    "#plot_categorical_distribution(df, column)"
   ]
  },
  {
   "cell_type": "code",
   "execution_count": null,
   "metadata": {},
   "outputs": [],
   "source": [
    "plot_categorical_distribution(df, column)"
   ]
  },
  {
   "cell_type": "markdown",
   "metadata": {},
   "source": [
    "## Jaar ervaring"
   ]
  },
  {
   "cell_type": "code",
   "execution_count": null,
   "metadata": {},
   "outputs": [],
   "source": [
    "from datetime import datetime\n",
    "import re \n",
    "\n",
    "def replace_fun(str_val):\n",
    "     replace_dict = {\n",
    "         ',':'.',\n",
    "         ' ':'',\n",
    "         'half':'0.5',\n",
    "         'een': '1',\n",
    "         'twee': '2',\n",
    "         'drie': '3',\n",
    "         'vier': '4',\n",
    "         'vijf': '5',\n",
    "         'zes': '6',\n",
    "         'zeven': '7',\n",
    "         'acht': '8',\n",
    "         'negen': '9',\n",
    "         'months':'maanden',\n",
    "         'jaren':'jaar'\n",
    "     }\n",
    "     for orig, new in replace_dict.items():\n",
    "         str_val = str_val.replace(orig, new)\n",
    "         \n",
    "     return str_val \n",
    "\n",
    "def extract_vals(str_val):\n",
    "    try:\n",
    "        #re.match(r'^-?\\d+(?:\\.\\d+)$', str_val) is None: # geen float\n",
    "        val = float(str_val)\n",
    "        return val\n",
    "    except:\n",
    "        if str_val in ['niet','geen']:\n",
    "            val = 0\n",
    "            return val\n",
    "        elif 'sinds' in str_val or 'vanaf' in str_val:\n",
    "            matches = re.findall('(\\d{4})',str_val)\n",
    "            if len(matches) == 0:\n",
    "                val = np.nan\n",
    "            else:\n",
    "                val = float(matches[0])\n",
    "            return val\n",
    "        if 'jaar' in str_val:\n",
    "            pattern = r'(\\d+\\.\\d+|\\d+)\\s*jaar'\n",
    "        elif 'maand' in str_val:\n",
    "            pattern = r'(\\d+\\.\\d+|\\d+)\\s*maand'\n",
    "        else:\n",
    "            val = np.nan\n",
    "            return val\n",
    "        matches = re.findall(pattern, str_val)\n",
    "        if len(matches) == 0:\n",
    "            val = np.nan\n",
    "        else:\n",
    "            numbers = [float(match) for match in matches]\n",
    "            val = numbers[0]\n",
    "            if 'maand' in str_val:\n",
    "                val = val/12\n",
    "        \n",
    "        return val\n",
    "\n",
    "# Calculate the number of years worked\n",
    "def calculate_years_worked(row):\n",
    "    start_year = row['jaar_ervaring']\n",
    "    end_date = row['cdate']\n",
    "    \n",
    "    if isinstance(end_date, datetime):\n",
    "        piet= 0\n",
    "    else:\n",
    "        end_date = datetime(2024,1,1)\n",
    "    # If start_year is a float, separate the year and the fraction\n",
    "    year = int(start_year)\n",
    "    fraction = start_year - year\n",
    "    \n",
    "    # Calculate the number of full years\n",
    "    years_worked = end_date.year - year\n",
    "    \n",
    "    # Adjust for the fraction of the year\n",
    "    if fraction > 0:\n",
    "        # Calculate the exact date by adding the fraction as months\n",
    "        start_date = datetime(year, 1, 1) + pd.DateOffset(months=int(fraction * 12))\n",
    "        if end_date < start_date:\n",
    "            years_worked -= 1\n",
    "        elif end_date > start_date:\n",
    "            extra_months = (end_date - start_date).days / 365.25\n",
    "            years_worked += extra_months\n",
    "    \n",
    "    return years_worked\n",
    "\n",
    "\n",
    "def bereken_jaar_ervaring(df):\n",
    "    df.loc[df['Hoe lang in dienst/werkloos'] == 'Vijf een half jaar', 'Hoe lang in dienst/werkloos'] = '5.5jaar'\n",
    "\n",
    "    df['jaar_ervaring'] = df['Hoe lang in dienst/werkloos'].apply(lambda x: extract_vals(replace_fun(x.lower())) if isinstance(x, str) else x)\n",
    "    df.loc[df['jaar_ervaring'] > 1950, 'jaar_ervaring'] = df[df['jaar_ervaring'] > 1950].apply(calculate_years_worked,axis=1)\n",
    "    return df\n",
    "\n",
    "df = bereken_jaar_ervaring(df)"
   ]
  },
  {
   "cell_type": "code",
   "execution_count": null,
   "metadata": {},
   "outputs": [],
   "source": [
    "plot_density(df, 'jaar_ervaring')"
   ]
  },
  {
   "cell_type": "code",
   "execution_count": null,
   "metadata": {},
   "outputs": [],
   "source": [
    "df['jaar_ervaring'].sort_values()"
   ]
  },
  {
   "cell_type": "markdown",
   "metadata": {},
   "source": [
    "## Convert postcode"
   ]
  },
  {
   "cell_type": "code",
   "execution_count": null,
   "metadata": {},
   "outputs": [],
   "source": [
    "def convert_postcode(df):\n",
    "    # postcode > stad, provincie, randstad ja/nee\n",
    "    df['postcode_getal'] = df['postcode'].str[:4]\n",
    "    postal_code_data = pd.read_excel('data/postcodesNL.xlsx',converters={'Postcode':str})\n",
    "    df = df.merge(postal_code_data, left_on='postcode_getal', right_on='Postcode', how='left')\n",
    "\n",
    "    randstad_list = ['Amsterdam','Rotterdam','Den Haag','Utrecht','Almere','Haarlem','Amersfoort','Zaanstad','Haarlemmermeer','Zoetermeer','Leiden','Dordrecht','Alphen aan den Rijn','Westland','Alkmaar','Delft']\n",
    "    df['randstad'] = df['Gemeente'].isin(randstad_list)\n",
    "    df.loc[df['Gemeente'].isna(), 'randstad'] = np.nan\n",
    "    df.loc[df['postcode'] == 'Overig', 'randstad']=False\n",
    "    df.drop(['postcode'], axis=1, inplace=True)\n",
    "    return df"
   ]
  },
  {
   "cell_type": "code",
   "execution_count": null,
   "metadata": {},
   "outputs": [],
   "source": [
    "df = convert_postcode(df)"
   ]
  },
  {
   "cell_type": "code",
   "execution_count": null,
   "metadata": {},
   "outputs": [],
   "source": [
    "plot_categorical_distribution(df,'Gemeente')"
   ]
  },
  {
   "cell_type": "code",
   "execution_count": null,
   "metadata": {},
   "outputs": [],
   "source": [
    "plot_categorical_distribution(df,'Provincie')"
   ]
  },
  {
   "cell_type": "code",
   "execution_count": null,
   "metadata": {},
   "outputs": [],
   "source": [
    "plot_categorical_distribution(df,'randstad')"
   ]
  },
  {
   "cell_type": "markdown",
   "metadata": {},
   "source": [
    "## Werksituatie"
   ]
  },
  {
   "cell_type": "code",
   "execution_count": null,
   "metadata": {},
   "outputs": [],
   "source": [
    "def clean_werksituatie(df):\n",
    "       df['Werksituatie'] = df['Werksituatie'].str.lower()\n",
    "       df['Werksituatie'].replace(\"werkloos\",\"ik ben werkloos\",inplace=True)\n",
    "       klus_answers = [ 'niks: 0 klussen',\n",
    "              'weinig: 3 tot 4 klussen', 'regelmatig: 5 tot 8 klussen',\n",
    "              'bij uitzondering: 1 tot 2 klussen', 'veel: meer dan 8 klussen']\n",
    "       df['Werksituatie'] = df['Werksituatie'].apply(lambda x: \"ik ben zzp'er\" if x in klus_answers else x)\n",
    "       answers = ['ik heb een tijdelijk contract (bepaalde tijd)', 'ik ben werkloos',\n",
    "              'ik heb een vast contract', \"ik ben zzp'er\"]\n",
    "       df['Werksituatie'] = df['Werksituatie'].apply(lambda x: np.nan if x not in answers else x)\n",
    "       return df"
   ]
  },
  {
   "cell_type": "code",
   "execution_count": null,
   "metadata": {},
   "outputs": [],
   "source": [
    "df = clean_werksituatie(df)"
   ]
  },
  {
   "cell_type": "code",
   "execution_count": null,
   "metadata": {},
   "outputs": [],
   "source": [
    "column = \"Werksituatie\"\n",
    "plot_categorical_distribution(df, column)"
   ]
  },
  {
   "cell_type": "code",
   "execution_count": null,
   "metadata": {},
   "outputs": [],
   "source": [
    "df['Voorkeursbranche'] = df['Voorkeursbranche'].str.lower()"
   ]
  },
  {
   "cell_type": "code",
   "execution_count": null,
   "metadata": {},
   "outputs": [],
   "source": [
    "column = \"Voorkeursbranche\"\n",
    "plot_categorical_distribution(df, column)"
   ]
  },
  {
   "cell_type": "code",
   "execution_count": null,
   "metadata": {},
   "outputs": [],
   "source": [
    "column = \"Strevon startsalaris\"\n",
    "plot_categorical_distribution(df, column)"
   ]
  },
  {
   "cell_type": "code",
   "execution_count": null,
   "metadata": {},
   "outputs": [],
   "source": [
    "def clean_strevon_startsalaris(df):\n",
    "    answers = [\"Dit is haalbaar\", \"Dit is een uitdaging\", \"Dit is niet haalbaar\"]\n",
    "    df[column] = df[column].apply(lambda x: np.nan if x not in answers else x)\n",
    "    return df"
   ]
  },
  {
   "cell_type": "code",
   "execution_count": null,
   "metadata": {},
   "outputs": [],
   "source": [
    "column = \"Strevon werktijden\"\n",
    "plot_categorical_distribution(df, column)"
   ]
  },
  {
   "cell_type": "code",
   "execution_count": null,
   "metadata": {},
   "outputs": [],
   "source": [
    "answers = [\"Dit is haalbaar\", \"Dit is een uitdaging\", \"Dit is niet haalbaar\"]\n",
    "df[column] = df[column].apply(lambda x: np.nan if x not in answers else x)"
   ]
  },
  {
   "cell_type": "code",
   "execution_count": null,
   "metadata": {},
   "outputs": [],
   "source": [
    "column = \"groupid\"\n",
    "plot_categorical_distribution(df, column)"
   ]
  },
  {
   "cell_type": "code",
   "execution_count": null,
   "metadata": {},
   "outputs": [],
   "source": [
    "column = \"stage\"\n",
    "plot_categorical_distribution(df, column)"
   ]
  },
  {
   "cell_type": "code",
   "execution_count": null,
   "metadata": {},
   "outputs": [],
   "source": [
    "column = \"status\"\n",
    "plot_categorical_distribution(df, column)"
   ]
  },
  {
   "cell_type": "code",
   "execution_count": null,
   "metadata": {},
   "outputs": [],
   "source": [
    "df['diff_days'] = (df['belafspraak'] - df['cdate']).dt.days\n",
    "df[['cdate', 'belafspraak','diff_days']]"
   ]
  },
  {
   "cell_type": "code",
   "execution_count": null,
   "metadata": {},
   "outputs": [],
   "source": [
    "def drop_columns(df):\n",
    "    dropcols = [\"Motivatie\", \"Huidig/Laatste functie\", 'Hoe lang in dienst/werkloos',\n",
    "                'Meest trotste project', \"uitkomstTelefonischContact\", \"Overname bedrag (W&S)\",\n",
    "                \"Verloning marge stopper of W&S overname\", \"berekening\", 'postcode_getal', 'Postcode']\n",
    "    dropcols = [col for col in dropcols if col in df.columns.to_list()]\n",
    "    \n",
    "    for col in dropcols:\n",
    "        df.drop(col ,axis=1,inplace=True)\n",
    "    return df\n"
   ]
  },
  {
   "cell_type": "code",
   "execution_count": null,
   "metadata": {},
   "outputs": [],
   "source": [
    "df = drop_columns(df)"
   ]
  },
  {
   "cell_type": "code",
   "execution_count": null,
   "metadata": {},
   "outputs": [],
   "source": [
    "date_cols = ['cdate','geboortedatum','belafspraak']\n",
    "for col in date_cols:\n",
    "    df[col] = pd.to_numeric(df[col])\n",
    "    #df[col] = df[col].apply(lambda x: float(pd.Timestamp(x)) )"
   ]
  },
  {
   "cell_type": "code",
   "execution_count": null,
   "metadata": {},
   "outputs": [],
   "source": [
    "cols = df.columns.to_list()\n",
    "cols.remove('starter')"
   ]
  },
  {
   "cell_type": "code",
   "execution_count": null,
   "metadata": {},
   "outputs": [],
   "source": [
    "def prep_dataset_for_modelling(df):\n",
    "    # Identify columns with object data type (categorical variables)\n",
    "    categorical_columns = df.select_dtypes(include=['object']).columns\n",
    "    for cat_col in categorical_columns:\n",
    "        df = clean_categorical_variable(df, cat_col)\n",
    "\n",
    "    store_categorical_metadata(df, \"data/categorical_meta_data.json\")\n",
    "    # Identify non-object type columns\n",
    "    non_categorical_columns = df.select_dtypes(exclude=['object']).columns\n",
    "\n",
    "    # Dummy code the categorical columns\n",
    "    df_dummies = pd.get_dummies(df[categorical_columns])\n",
    "\n",
    "    # Select non-categorical columns\n",
    "    df_non_categorical = df[non_categorical_columns]\n",
    "\n",
    "    # Concatenate the dummy coded variables with the non-categorical columns\n",
    "    df_final = pd.concat([df_non_categorical, df_dummies], axis=1)\n",
    "    return df_final"
   ]
  },
  {
   "cell_type": "code",
   "execution_count": null,
   "metadata": {},
   "outputs": [],
   "source": [
    "from data_prep import store_categorical_metadata\n"
   ]
  },
  {
   "cell_type": "code",
   "execution_count": null,
   "metadata": {},
   "outputs": [],
   "source": [
    "# Identify columns with object data type (categorical variables)\n",
    "categorical_columns = df.select_dtypes(include=['object']).columns\n",
    "\n",
    "# Identify non-object type columns\n",
    "non_categorical_columns = df.select_dtypes(exclude=['object']).columns\n",
    "\n",
    "# Dummy code the categorical columns\n",
    "df_dummies = pd.get_dummies(df[categorical_columns])\n",
    "\n",
    "# Select non-categorical columns\n",
    "df_non_categorical = df[non_categorical_columns]\n",
    "\n",
    "# Concatenate the dummy coded variables with the non-categorical columns\n",
    "df_final = pd.concat([df_non_categorical, df_dummies], axis=1)"
   ]
  },
  {
   "cell_type": "code",
   "execution_count": null,
   "metadata": {},
   "outputs": [],
   "source": [
    "# # Calculate the sum of each column\n",
    "# column_sums = df_final.sum()\n",
    "\n",
    "# # Identify columns where the sum is greater than 10\n",
    "# columns_to_keep = column_sums[column_sums > 10].index\n",
    "\n",
    "# # Drop columns that don't sum to more than 10\n",
    "# df_final_filtered = df_final[columns_to_keep]"
   ]
  },
  {
   "cell_type": "code",
   "execution_count": null,
   "metadata": {},
   "outputs": [],
   "source": [
    "df_final.to_csv(\"data\\df_final_filtered2.csv\",index=False)"
   ]
  },
  {
   "cell_type": "code",
   "execution_count": null,
   "metadata": {},
   "outputs": [],
   "source": [
    "len(df_final.columns)"
   ]
  },
  {
   "cell_type": "code",
   "execution_count": null,
   "metadata": {},
   "outputs": [],
   "source": [
    "# Calculate the correlation of each column with the target column 'starter'\n",
    "correlations = df_final.corrwith(df_final['starter'])\n",
    "\n",
    "# Create a list of correlations\n",
    "correlation_list = correlations.drop('starter').tolist()  # Drop the target column itself from the list\n",
    "\n",
    "# Create a list of column names\n",
    "column_names = correlations.drop('starter').index.tolist()  # Drop the target column itself from the list\n",
    "\n",
    "# Combine column names and correlations into a list of tuples\n",
    "correlation_tuples = list(zip(column_names, correlation_list))\n",
    "# Sort the list of tuples by the absolute value of the correlation coefficients in descending order\n",
    "sorted_correlations = sorted(correlation_tuples, key=lambda x: abs(x[1]), reverse=True)\n",
    "\n",
    "# Display the sorted list of correlations\n",
    "print(\"\\nSorted list of strongest correlations with 'starter':\")\n",
    "for column, corr in sorted_correlations:\n",
    "    print(f\"{column}: {corr}\")"
   ]
  },
  {
   "cell_type": "code",
   "execution_count": null,
   "metadata": {},
   "outputs": [],
   "source": [
    "df_corr = pd.DataFrame(sorted_correlations,columns=['variable','correlation'])\n",
    "df_corr"
   ]
  },
  {
   "cell_type": "code",
   "execution_count": null,
   "metadata": {},
   "outputs": [],
   "source": [
    "df_corr.iloc[50:100].head(50)"
   ]
  },
  {
   "cell_type": "code",
   "execution_count": null,
   "metadata": {},
   "outputs": [],
   "source": [
    "pd.DataFrame(df.describe(datetime_is_numeric=True))"
   ]
  },
  {
   "cell_type": "code",
   "execution_count": null,
   "metadata": {},
   "outputs": [],
   "source": [
    "df.info()"
   ]
  },
  {
   "cell_type": "code",
   "execution_count": null,
   "metadata": {},
   "outputs": [],
   "source": [
    "pd.DataFrame(df[['cdate','geboortedatum','belafspraak']].describe(datetime_is_numeric=True))"
   ]
  },
  {
   "cell_type": "code",
   "execution_count": null,
   "metadata": {},
   "outputs": [],
   "source": [
    "df['geboortedatum'].iloc[0]"
   ]
  },
  {
   "cell_type": "code",
   "execution_count": null,
   "metadata": {},
   "outputs": [],
   "source": [
    "date_cols = ['cdate','geboortedatum','belafspraak']\n",
    "for col in date_cols:\n",
    "    df[col] = pd.to_numeric(df[col])\n",
    "    #df[col] = df[col].apply(lambda x: float(pd.Timestamp(x)) )"
   ]
  },
  {
   "cell_type": "code",
   "execution_count": null,
   "metadata": {},
   "outputs": [],
   "source": [
    "for col in df.columns.to_list():\n",
    "    #print(f\"{col}\") \n",
    "    print(f\"{len(df[df[col].isna()])}\") "
   ]
  }
 ],
 "metadata": {
  "kernelspec": {
   "display_name": "base",
   "language": "python",
   "name": "python3"
  },
  "language_info": {
   "codemirror_mode": {
    "name": "ipython",
    "version": 3
   },
   "file_extension": ".py",
   "mimetype": "text/x-python",
   "name": "python",
   "nbconvert_exporter": "python",
   "pygments_lexer": "ipython3",
   "version": "3.8.8"
  }
 },
 "nbformat": 4,
 "nbformat_minor": 2
}
